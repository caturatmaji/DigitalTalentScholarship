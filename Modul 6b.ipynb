{
 "cells": [
  {
   "cell_type": "markdown",
   "metadata": {},
   "source": [
    "## 6.3 Exception and class\n",
    "### 6.3.1 complete branch of exception\n",
    "\n",
    "    try:\n",
    "        ...\n",
    "    except Exception:\n",
    "        ...\n",
    "    else:\n",
    "        ...\n",
    "    finally:\n",
    "        ..."
   ]
  },
  {
   "cell_type": "code",
   "execution_count": 4,
   "metadata": {},
   "outputs": [
    {
     "name": "stdout",
     "output_type": "stream",
     "text": [
      "Everything went fine\n",
      "It's time to say goodbye\n",
      "0.5\n",
      "Division failed\n",
      "It's time to say goodbye\n",
      "None\n"
     ]
    }
   ],
   "source": [
    "def reciprocal(n):\n",
    "    try:\n",
    "        n = 1 / n\n",
    "    except ZeroDivisionError:\n",
    "        print(\"Division failed\")\n",
    "        n = None\n",
    "    else:\n",
    "        print(\"Everything went fine\")\n",
    "    finally:\n",
    "        print(\"It's time to say goodbye\")\n",
    "        return n\n",
    "\n",
    "print(reciprocal(2))\n",
    "print(reciprocal(0))"
   ]
  },
  {
   "cell_type": "markdown",
   "metadata": {},
   "source": [
    "### 6.3.2 Exception classes\n"
   ]
  },
  {
   "cell_type": "code",
   "execution_count": 5,
   "metadata": {},
   "outputs": [
    {
     "name": "stdout",
     "output_type": "stream",
     "text": [
      "BaseException\n",
      "   +---Exception\n",
      "   |   +---TypeError\n",
      "   |   |   +---MultipartConversionError\n",
      "   |   |   +---FloatOperation\n",
      "   |   +---StopAsyncIteration\n",
      "   |   +---StopIteration\n",
      "   |   +---ImportError\n",
      "   |   |   +---ModuleNotFoundError\n",
      "   |   |   +---ZipImportError\n",
      "   |   +---OSError\n",
      "   |   |   +---ConnectionError\n",
      "   |   |   |   +---BrokenPipeError\n",
      "   |   |   |   +---ConnectionAbortedError\n",
      "   |   |   |   +---ConnectionRefusedError\n",
      "   |   |   |   +---ConnectionResetError\n",
      "   |   |   |   |   +---RemoteDisconnected\n",
      "   |   |   +---BlockingIOError\n",
      "   |   |   +---ChildProcessError\n",
      "   |   |   +---FileExistsError\n",
      "   |   |   +---FileNotFoundError\n",
      "   |   |   +---IsADirectoryError\n",
      "   |   |   +---NotADirectoryError\n",
      "   |   |   +---InterruptedError\n",
      "   |   |   |   +---InterruptedSystemCall\n",
      "   |   |   +---PermissionError\n",
      "   |   |   +---ProcessLookupError\n",
      "   |   |   +---TimeoutError\n",
      "   |   |   +---UnsupportedOperation\n",
      "   |   |   +---Error\n",
      "   |   |   |   +---SameFileError\n",
      "   |   |   +---SpecialFileError\n",
      "   |   |   +---ExecError\n",
      "   |   |   +---ReadError\n",
      "   |   |   +---herror\n",
      "   |   |   +---gaierror\n",
      "   |   |   +---timeout\n",
      "   |   |   +---SSLError\n",
      "   |   |   |   +---SSLCertVerificationError\n",
      "   |   |   |   +---SSLZeroReturnError\n",
      "   |   |   |   +---SSLWantReadError\n",
      "   |   |   |   +---SSLWantWriteError\n",
      "   |   |   |   +---SSLSyscallError\n",
      "   |   |   |   +---SSLEOFError\n",
      "   |   |   +---URLError\n",
      "   |   |   |   +---HTTPError\n",
      "   |   |   |   +---ContentTooShortError\n",
      "   |   +---EOFError\n",
      "   |   |   +---IncompleteReadError\n",
      "   |   +---RuntimeError\n",
      "   |   |   +---RecursionError\n",
      "   |   |   +---NotImplementedError\n",
      "   |   |   |   +---StdinNotImplementedError\n",
      "   |   |   |   +---ZMQVersionError\n",
      "   |   |   +---_DeadlockError\n",
      "   |   |   +---BrokenBarrierError\n",
      "   |   |   +---BrokenExecutor\n",
      "   |   |   +---SendfileNotAvailableError\n",
      "   |   +---NameError\n",
      "   |   |   +---UnboundLocalError\n",
      "   |   +---AttributeError\n",
      "   |   +---SyntaxError\n",
      "   |   |   +---IndentationError\n",
      "   |   |   |   +---TabError\n",
      "   |   +---LookupError\n",
      "   |   |   +---IndexError\n",
      "   |   |   +---KeyError\n",
      "   |   |   |   +---UnknownBackend\n",
      "   |   |   |   +---NoSuchKernel\n",
      "   |   |   +---CodecRegistryError\n",
      "   |   +---ValueError\n",
      "   |   |   +---UnicodeError\n",
      "   |   |   |   +---UnicodeEncodeError\n",
      "   |   |   |   +---UnicodeDecodeError\n",
      "   |   |   |   +---UnicodeTranslateError\n",
      "   |   |   +---UnsupportedOperation\n",
      "   |   |   +---JSONDecodeError\n",
      "   |   |   +---ClassNotFound\n",
      "   |   |   +---Error\n",
      "   |   |   +---SSLCertVerificationError\n",
      "   |   |   +---ClipboardEmpty\n",
      "   |   |   +---MessageDefect\n",
      "   |   |   |   +---NoBoundaryInMultipartDefect\n",
      "   |   |   |   +---StartBoundaryNotFoundDefect\n",
      "   |   |   |   +---CloseBoundaryNotFoundDefect\n",
      "   |   |   |   +---FirstHeaderLineIsContinuationDefect\n",
      "   |   |   |   +---MisplacedEnvelopeHeaderDefect\n",
      "   |   |   |   +---MissingHeaderBodySeparatorDefect\n",
      "   |   |   |   +---MultipartInvariantViolationDefect\n",
      "   |   |   |   +---InvalidMultipartContentTransferEncodingDefect\n",
      "   |   |   |   +---UndecodableBytesDefect\n",
      "   |   |   |   +---InvalidBase64PaddingDefect\n",
      "   |   |   |   +---InvalidBase64CharactersDefect\n",
      "   |   |   |   +---InvalidBase64LengthDefect\n",
      "   |   |   |   +---HeaderDefect\n",
      "   |   |   |   |   +---InvalidHeaderDefect\n",
      "   |   |   |   |   +---HeaderMissingRequiredValue\n",
      "   |   |   |   |   +---NonPrintableDefect\n",
      "   |   |   |   |   +---ObsoleteHeaderDefect\n",
      "   |   |   |   |   +---NonASCIILocalPartDefect\n",
      "   |   |   +---IllegalMonthError\n",
      "   |   |   +---IllegalWeekdayError\n",
      "   |   |   +---MacroToEdit\n",
      "   |   +---AssertionError\n",
      "   |   +---ArithmeticError\n",
      "   |   |   +---FloatingPointError\n",
      "   |   |   +---OverflowError\n",
      "   |   |   +---ZeroDivisionError\n",
      "   |   |   |   +---DivisionByZero\n",
      "   |   |   |   +---DivisionUndefined\n",
      "   |   |   +---DecimalException\n",
      "   |   |   |   +---Clamped\n",
      "   |   |   |   +---Rounded\n",
      "   |   |   |   |   +---Underflow\n",
      "   |   |   |   |   +---Overflow\n",
      "   |   |   |   +---Inexact\n",
      "   |   |   |   |   +---Underflow\n",
      "   |   |   |   |   +---Overflow\n",
      "   |   |   |   +---Subnormal\n",
      "   |   |   |   |   +---Underflow\n",
      "   |   |   |   +---DivisionByZero\n",
      "   |   |   |   +---FloatOperation\n",
      "   |   |   |   +---InvalidOperation\n",
      "   |   |   |   |   +---ConversionSyntax\n",
      "   |   |   |   |   +---DivisionImpossible\n",
      "   |   |   |   |   +---DivisionUndefined\n",
      "   |   |   |   |   +---InvalidContext\n",
      "   |   +---SystemError\n",
      "   |   |   +---CodecRegistryError\n",
      "   |   +---ReferenceError\n",
      "   |   +---MemoryError\n",
      "   |   +---BufferError\n",
      "   |   +---Warning\n",
      "   |   |   +---UserWarning\n",
      "   |   |   |   +---GetPassWarning\n",
      "   |   |   |   +---FormatterWarning\n",
      "   |   |   +---DeprecationWarning\n",
      "   |   |   |   +---ProvisionalWarning\n",
      "   |   |   +---PendingDeprecationWarning\n",
      "   |   |   +---SyntaxWarning\n",
      "   |   |   +---RuntimeWarning\n",
      "   |   |   |   +---UnknownTimezoneWarning\n",
      "   |   |   +---FutureWarning\n",
      "   |   |   |   +---ProvisionalCompleterWarning\n",
      "   |   |   +---ImportWarning\n",
      "   |   |   +---UnicodeWarning\n",
      "   |   |   +---BytesWarning\n",
      "   |   |   +---ResourceWarning\n",
      "   |   |   +---DeprecatedTzFormatWarning\n",
      "   |   +---Error\n",
      "   |   +---_OptionError\n",
      "   |   +---_Error\n",
      "   |   +---error\n",
      "   |   +---Verbose\n",
      "   |   +---SubprocessError\n",
      "   |   |   +---CalledProcessError\n",
      "   |   |   +---TimeoutExpired\n",
      "   |   +---TokenError\n",
      "   |   +---StopTokenizing\n",
      "   |   +---Error\n",
      "   |   +---error\n",
      "   |   +---LZMAError\n",
      "   |   +---RegistryError\n",
      "   |   +---EndOfBlock\n",
      "   |   +---error\n",
      "   |   +---TraitError\n",
      "   |   +---ArgumentError\n",
      "   |   +---ArgumentTypeError\n",
      "   |   +---ConfigError\n",
      "   |   |   +---ConfigLoaderError\n",
      "   |   |   |   +---ArgumentError\n",
      "   |   |   +---ConfigFileNotFound\n",
      "   |   +---ConfigurableError\n",
      "   |   |   +---MultipleInstanceError\n",
      "   |   +---ApplicationError\n",
      "   |   +---ErrorDuringImport\n",
      "   |   +---BdbQuit\n",
      "   |   +---OptionError\n",
      "   |   +---Restart\n",
      "   |   +---COMError\n",
      "   |   +---ArgumentError\n",
      "   |   +---FindCmdError\n",
      "   |   +---HomeDirError\n",
      "   |   +---ProfileDirError\n",
      "   |   +---IPythonCoreError\n",
      "   |   |   +---TryNext\n",
      "   |   |   +---UsageError\n",
      "   |   |   +---StdinNotImplementedError\n",
      "   |   +---InputRejected\n",
      "   |   +---GetoptError\n",
      "   |   +---Incomplete\n",
      "   |   +---ErrorToken\n",
      "   |   +---Error\n",
      "   |   |   +---CancelledError\n",
      "   |   |   +---TimeoutError\n",
      "   |   |   +---InvalidStateError\n",
      "   |   +---_GiveupOnSendfile\n",
      "   |   +---QueueEmpty\n",
      "   |   +---QueueFull\n",
      "   |   +---LimitOverrunError\n",
      "   |   +---_Stop\n",
      "   |   +---PickleError\n",
      "   |   |   +---PicklingError\n",
      "   |   |   +---UnpicklingError\n",
      "   |   +---PrefilterError\n",
      "   |   +---AliasError\n",
      "   |   |   +---InvalidAliasError\n",
      "   |   +---Error\n",
      "   |   |   +---InterfaceError\n",
      "   |   |   +---DatabaseError\n",
      "   |   |   |   +---InternalError\n",
      "   |   |   |   +---OperationalError\n",
      "   |   |   |   +---ProgrammingError\n",
      "   |   |   |   +---IntegrityError\n",
      "   |   |   |   +---DataError\n",
      "   |   |   |   +---NotSupportedError\n",
      "   |   +---Warning\n",
      "   |   +---SpaceInInput\n",
      "   |   +---TaskLocalNotSetError\n",
      "   |   +---InvalidStateError\n",
      "   |   +---Return\n",
      "   |   +---Empty\n",
      "   |   +---Full\n",
      "   |   +---NoRunningApplicationError\n",
      "   |   +---ValidationError\n",
      "   |   +---EditReadOnlyBuffer\n",
      "   |   +---_Retry\n",
      "   |   +---DOMException\n",
      "   |   |   +---IndexSizeErr\n",
      "   |   |   +---DomstringSizeErr\n",
      "   |   |   +---HierarchyRequestErr\n",
      "   |   |   +---WrongDocumentErr\n",
      "   |   |   +---InvalidCharacterErr\n",
      "   |   |   +---NoDataAllowedErr\n",
      "   |   |   +---NoModificationAllowedErr\n",
      "   |   |   +---NotFoundErr\n",
      "   |   |   +---NotSupportedErr\n",
      "   |   |   +---InuseAttributeErr\n",
      "   |   |   +---InvalidStateErr\n",
      "   |   |   +---SyntaxErr\n",
      "   |   |   +---InvalidModificationErr\n",
      "   |   |   +---NamespaceErr\n",
      "   |   |   +---InvalidAccessErr\n",
      "   |   |   +---ValidationErr\n",
      "   |   +---InvalidLayoutError\n",
      "   |   +---HeightIsUnknownError\n",
      "   |   +---ParserSyntaxError\n",
      "   |   +---InternalParseError\n",
      "   |   +---_PositionUpdatingFinished\n",
      "   |   +---UncaughtAttributeError\n",
      "   |   +---EvaluatorTypeError\n",
      "   |   +---EvaluatorIndexError\n",
      "   |   +---EvaluatorKeyError\n",
      "   |   +---FakeDoesNotExist\n",
      "   |   +---OnErrorLeaf\n",
      "   |   +---_JediError\n",
      "   |   |   +---InternalError\n",
      "   |   |   +---WrongVersion\n",
      "   |   +---InvalidPythonEnvironment\n",
      "   |   +---MessageError\n",
      "   |   |   +---MessageParseError\n",
      "   |   |   |   +---HeaderParseError\n",
      "   |   |   |   +---BoundaryError\n",
      "   |   |   +---MultipartConversionError\n",
      "   |   |   +---CharsetError\n",
      "   |   +---Error\n",
      "   |   +---HTTPException\n",
      "   |   |   +---NotConnected\n",
      "   |   |   +---InvalidURL\n",
      "   |   |   +---UnknownProtocol\n",
      "   |   |   +---UnknownTransferEncoding\n",
      "   |   |   +---UnimplementedFileMode\n",
      "   |   |   +---IncompleteRead\n",
      "   |   |   +---ImproperConnectionState\n",
      "   |   |   |   +---CannotSendRequest\n",
      "   |   |   |   +---CannotSendHeader\n",
      "   |   |   |   +---ResponseNotReady\n",
      "   |   |   +---BadStatusLine\n",
      "   |   |   |   +---RemoteDisconnected\n",
      "   |   |   +---LineTooLong\n",
      "   |   +---InteractivelyDefined\n",
      "   |   +---KillEmbedded\n",
      "   |   +---ZMQBaseError\n",
      "   |   |   +---ZMQError\n",
      "   |   |   |   +---ContextTerminated\n",
      "   |   |   |   +---Again\n",
      "   |   |   |   +---InterruptedSystemCall\n",
      "   |   |   +---ZMQBindError\n",
      "   |   |   +---NotDone\n",
      "   |   +---NoIPAddresses\n",
      "   |   +---InvalidPortNumber\n",
      "   |   +---DuplicateKernelError\n",
      "   |   +---TimeoutError\n",
      "   |   +---ReturnValueIgnoredError\n",
      "   |   +---KeyReuseError\n",
      "   |   +---UnknownKeyError\n",
      "   |   +---LeakedCallbackError\n",
      "   |   +---BadYieldError\n",
      "   |   +---ReturnValueIgnoredError\n",
      "   |   +---Return\n",
      "   |   +---QueueEmpty\n",
      "   |   +---QueueFull\n",
      "   +---GeneratorExit\n",
      "   +---SystemExit\n",
      "   +---KeyboardInterrupt\n"
     ]
    }
   ],
   "source": [
    "def printExcTree(thisclass, nest = 0):\n",
    "    if nest > 1:\n",
    "        print(\"   |\" * (nest - 1), end=\"\")\n",
    "    if nest > 0:\n",
    "        print(\"   +---\", end=\"\")\n",
    "\n",
    "    print(thisclass.__name__)\n",
    "\n",
    "    for subclass in thisclass.__subclasses__():\n",
    "        printExcTree(subclass, nest + 1)\n",
    "\n",
    "printExcTree(BaseException)"
   ]
  },
  {
   "cell_type": "markdown",
   "metadata": {},
   "source": [
    "### 6.3.3 Creating exception\n",
    "#### Inheriting existing exception"
   ]
  },
  {
   "cell_type": "code",
   "execution_count": null,
   "metadata": {},
   "outputs": [],
   "source": [
    "class MyZeroDivisionError(ZeroDivisionError):\t\n",
    "\tpass\n",
    "\n",
    "def doTheDivision(mine):\n",
    "\tif mine:\n",
    "\t\traise MyZeroDivisionError(\"some worse news\")\n",
    "\telse:\t\t\n",
    "\t\traise ZeroDivisionError(\"some bad news\")\n",
    "\n",
    "for mode in [False, True]:\n",
    "\ttry:\n",
    "\t\tdoTheDivision(mode)\n",
    "\texcept ZeroDivisionError:\n",
    "\t\tprint('Division by zero')\n",
    "\n",
    "\n",
    "for mode in [False, True]:\n",
    "\ttry:\n",
    "\t\tdoTheDivision(mode)\n",
    "\texcept MyZeroDivisionError:\n",
    "\t\tprint('My division by zero')\n",
    "\texcept ZeroDivisionError:\n",
    "\t\tprint('Original division by zero')"
   ]
  },
  {
   "cell_type": "code",
   "execution_count": 9,
   "metadata": {},
   "outputs": [
    {
     "ename": "CTAError",
     "evalue": "",
     "output_type": "error",
     "traceback": [
      "\u001b[1;31m---------------------------------------------------------------------------\u001b[0m",
      "\u001b[1;31mCTAError\u001b[0m                                  Traceback (most recent call last)",
      "\u001b[1;32m<ipython-input-9-331deac738b3>\u001b[0m in \u001b[0;36m<module>\u001b[1;34m\u001b[0m\n\u001b[0;32m      8\u001b[0m         \u001b[1;32mreturn\u001b[0m \u001b[1;34m\"OKE\"\u001b[0m\u001b[1;33m\u001b[0m\u001b[1;33m\u001b[0m\u001b[0m\n\u001b[0;32m      9\u001b[0m \u001b[1;33m\u001b[0m\u001b[0m\n\u001b[1;32m---> 10\u001b[1;33m \u001b[0mhasil\u001b[0m \u001b[1;33m=\u001b[0m \u001b[0mcekCTA\u001b[0m\u001b[1;33m(\u001b[0m\u001b[1;36m6\u001b[0m\u001b[1;33m)\u001b[0m\u001b[1;33m\u001b[0m\u001b[1;33m\u001b[0m\u001b[0m\n\u001b[0m",
      "\u001b[1;32m<ipython-input-9-331deac738b3>\u001b[0m in \u001b[0;36mcekCTA\u001b[1;34m(kelas)\u001b[0m\n\u001b[0;32m      4\u001b[0m \u001b[1;32mdef\u001b[0m \u001b[0mcekCTA\u001b[0m\u001b[1;33m(\u001b[0m\u001b[0mkelas\u001b[0m\u001b[1;33m)\u001b[0m\u001b[1;33m:\u001b[0m\u001b[1;33m\u001b[0m\u001b[1;33m\u001b[0m\u001b[0m\n\u001b[0;32m      5\u001b[0m     \u001b[1;32mif\u001b[0m \u001b[0mkelas\u001b[0m\u001b[1;33m>\u001b[0m\u001b[1;36m4\u001b[0m\u001b[1;33m:\u001b[0m\u001b[1;33m\u001b[0m\u001b[1;33m\u001b[0m\u001b[0m\n\u001b[1;32m----> 6\u001b[1;33m         \u001b[1;32mraise\u001b[0m \u001b[0mCTAError\u001b[0m\u001b[1;33m\u001b[0m\u001b[1;33m\u001b[0m\u001b[0m\n\u001b[0m\u001b[0;32m      7\u001b[0m     \u001b[1;32melse\u001b[0m\u001b[1;33m:\u001b[0m\u001b[1;33m\u001b[0m\u001b[1;33m\u001b[0m\u001b[0m\n\u001b[0;32m      8\u001b[0m         \u001b[1;32mreturn\u001b[0m \u001b[1;34m\"OKE\"\u001b[0m\u001b[1;33m\u001b[0m\u001b[1;33m\u001b[0m\u001b[0m\n",
      "\u001b[1;31mCTAError\u001b[0m: "
     ]
    }
   ],
   "source": [
    "class CTAError(Exception):\n",
    "    pass\n",
    "\n",
    "def cekCTA(kelas):\n",
    "    if kelas>4:\n",
    "        raise CTAError\n",
    "    else:\n",
    "        return \"OKE\"\n",
    "\n",
    "hasil = cekCTA(6)"
   ]
  },
  {
   "cell_type": "code",
   "execution_count": 6,
   "metadata": {},
   "outputs": [
    {
     "name": "stdout",
     "output_type": "stream",
     "text": [
      "Pizza ready!\n",
      "too much cheese : 110\n",
      "no such pizza on the menu : mafia\n"
     ]
    }
   ],
   "source": [
    "class PizzaError(Exception):\n",
    "    def __init__(self, pizza, message):\n",
    "        Exception.__init__(self, message)\n",
    "        self.pizza = pizza\n",
    "\n",
    "\n",
    "class TooMuchCheeseError(PizzaError):\n",
    "    def __init__(self, pizza, cheese, message):\n",
    "        PizzaError.__init__(self, pizza, message)\n",
    "        self.cheese = cheese\n",
    "\n",
    "\n",
    "def makePizza(pizza, cheese):\n",
    "\tif pizza not in ['margherita', 'capricciosa', 'calzone']:\n",
    "\t\traise PizzaError(pizza, \"no such pizza on the menu\")\n",
    "\tif cheese > 100:\n",
    "\t\traise TooMuchCheeseError(pizza, cheese, \"too much cheese\")\n",
    "\tprint(\"Pizza ready!\")\n",
    "\n",
    "\n",
    "for (pz, ch) in [('calzone', 0), ('margherita', 110), ('mafia', 20)]:\n",
    "\ttry:\n",
    "\t\tmakePizza(pz, ch)\n",
    "\texcept TooMuchCheeseError as tmce:\n",
    "\t\tprint(tmce, ':', tmce.cheese)\n",
    "\texcept PizzaError as pe:\n",
    "\t\tprint(pe, ':', pe.pizza)"
   ]
  },
  {
   "cell_type": "markdown",
   "metadata": {},
   "source": [
    "## 6.4 Generator\n",
    "**a piece of specialized code able to produce a series of values, and to control the iteration process**\n",
    "\n",
    "    range()"
   ]
  },
  {
   "cell_type": "code",
   "execution_count": 10,
   "metadata": {},
   "outputs": [
    {
     "name": "stdout",
     "output_type": "stream",
     "text": [
      "range(0, 10)\n"
     ]
    }
   ],
   "source": [
    "print(range(10))"
   ]
  },
  {
   "cell_type": "markdown",
   "metadata": {},
   "source": [
    "### 6.4.1 Class of generator\n",
    "**iterator protocol is a way in which an object should behave to conform to the rules imposed by the context of the for and in statements**\n",
    "\n",
    "#### An iterator must provide two methods:\n",
    "\n",
    "- **\\_\\_iter__()** which should return the object itself and which is invoked once\n",
    "- **\\_\\_next__()** which is intended to return the next value (first, second, and so on) of the desired series. the method should **raise the StopIteration** exception."
   ]
  },
  {
   "cell_type": "code",
   "execution_count": 36,
   "metadata": {},
   "outputs": [
    {
     "name": "stdout",
     "output_type": "stream",
     "text": [
      "0 - 1 - 2 - 3 - 4 - \n",
      "[2, 2, 2, 2, 2]\n"
     ]
    }
   ],
   "source": [
    "class rangePalsu:\n",
    "    def __init__(self,n):\n",
    "        self.__n = n\n",
    "        self.__i = 0\n",
    "    \n",
    "    def __iter__(self):\n",
    "        return self\n",
    "        \n",
    "    def __next__(self):\n",
    "        if self.__i<self.__n:\n",
    "            self.iterasi = self.__i\n",
    "            self.__i += 1\n",
    "        else:\n",
    "            raise StopIteration\n",
    "        return self.iterasi\n",
    "\n",
    "for i in rangePalsu(5):\n",
    "    print(i,end = \" - \")\n",
    "print()\n",
    "#print(list(rangePalsu(5)))\n",
    "\n",
    "lstBaru = [x**2 for x in rangePalsu(5)]\n",
    "print(lstBaru)"
   ]
  },
  {
   "cell_type": "code",
   "execution_count": 24,
   "metadata": {},
   "outputs": [
    {
     "name": "stdout",
     "output_type": "stream",
     "text": [
      "12 - 23 - 123 - 5435 - "
     ]
    }
   ],
   "source": [
    "class iterList:\n",
    "    def __init__(self,lst):\n",
    "        self.__lst = lst[:]\n",
    "        self.__pjg = len(lst)\n",
    "        self.__i = 0\n",
    "    \n",
    "    def __iter__(self):\n",
    "        return self\n",
    "        \n",
    "    def __next__(self):\n",
    "        if self.__i<self.__pjg:\n",
    "            self.__isi = self.__lst[self.__i]\n",
    "            self.__i += 1\n",
    "        else:\n",
    "            raise StopIteration\n",
    "        return self.__isi\n",
    "aa = [12,23,123,5435]\n",
    "\n",
    "for i in iterList(aa):\n",
    "    print(i,end = \" - \")"
   ]
  },
  {
   "cell_type": "code",
   "execution_count": null,
   "metadata": {},
   "outputs": [],
   "source": [
    "class Fib:\n",
    "\tdef __init__(self, nn):\n",
    "\t\tprint(\"__init__\")\n",
    "\t\tself.__n = nn\n",
    "\t\tself.__i = 0\n",
    "\t\tself.__p1 = self.__p2 = 1\n",
    "\n",
    "\tdef __iter__(self):\n",
    "\t\tprint(\"__iter__\")\t\t\n",
    "\t\treturn self\n",
    "\n",
    "\tdef __next__(self):\n",
    "\t\tprint(\"__next__\")\t\t\t\t\n",
    "\t\tself.__i += 1\n",
    "\t\tif self.__i > self.__n:\n",
    "\t\t\traise StopIteration\n",
    "\t\tif self.__i in [1, 2]:\n",
    "\t\t\treturn 1\n",
    "\t\tret = self.__p1 + self.__p2\n",
    "\t\tself.__p1, self.__p2 = self.__p2, ret\n",
    "\t\treturn ret\n",
    "\n",
    "for i in Fib(10):\n",
    "\tprint(i)\n"
   ]
  },
  {
   "cell_type": "markdown",
   "metadata": {},
   "source": [
    "### 6.4.2 Yield statement\n",
    "replacing __return__ with __yield__ turns the **function** into a **generator**"
   ]
  },
  {
   "cell_type": "code",
   "execution_count": 30,
   "metadata": {},
   "outputs": [
    {
     "name": "stdout",
     "output_type": "stream",
     "text": [
      "<generator object lihatList at 0x0000018C781D91B0>\n",
      "a || 12 || 3.0 || kamu || "
     ]
    }
   ],
   "source": [
    "def lihatList(lst):\n",
    "    pjg = len(lst)\n",
    "    for i in range(pjg):\n",
    "        yield lst[i]\n",
    "        # return lst[i]\n",
    "        # print(lst[i],end= ' - ')\n",
    "\n",
    "lst = ['a',12,3.0,'kamu']\n",
    "print(lihatList(lst))\n",
    "for i in lihatList(lst):\n",
    "    print(i,end = \" || \")"
   ]
  },
  {
   "cell_type": "code",
   "execution_count": null,
   "metadata": {},
   "outputs": [],
   "source": [
    "def fun(n):\n",
    "    for i in range(n):\n",
    "        yield i\n",
    "\n",
    "for v in fun(5):\n",
    "    print(v)"
   ]
  },
  {
   "cell_type": "code",
   "execution_count": null,
   "metadata": {},
   "outputs": [],
   "source": [
    "def powersOf2(n):\n",
    "    pow = 1\n",
    "    for i in range(n):\n",
    "        yield pow\n",
    "        pow *= 2\n",
    "\n",
    "# making list from generator\n",
    "t1 = [x for x in powersOf2(5)]\n",
    "t2 = list(powersOf2(5))\n",
    "\n",
    "print(t1)\n",
    "print(t2)"
   ]
  },
  {
   "cell_type": "code",
   "execution_count": null,
   "metadata": {},
   "outputs": [],
   "source": [
    "# generator fibonaci\n",
    "def Fib(n):\n",
    "    p = pp = 1\n",
    "    for i in range(n):\n",
    "        if i in [0, 1]:\n",
    "            yield 1\n",
    "        else:\n",
    "            n = p + pp\n",
    "            pp, p = p, n\n",
    "            yield n\n",
    "\n",
    "fibs = list(Fib(10))\n",
    "\n",
    "print(fibs)"
   ]
  },
  {
   "cell_type": "markdown",
   "metadata": {},
   "source": [
    "### 6.4.3 List comprehension\n",
    "Making list from generator\n"
   ]
  },
  {
   "cell_type": "code",
   "execution_count": null,
   "metadata": {},
   "outputs": [],
   "source": [
    "# from for loop\n",
    "lst = []\n",
    "\n",
    "for x in range(10):\n",
    "    lst.append(1 if x % 2 == 0 else 0)\n",
    "\n",
    "print(lst)"
   ]
  },
  {
   "cell_type": "code",
   "execution_count": null,
   "metadata": {},
   "outputs": [],
   "source": [
    "# directly from list assignment\n",
    "lst = [1 if x % 2 == 0 else 0 for x in range(10)]\n",
    "\n",
    "print(lst)"
   ]
  },
  {
   "cell_type": "markdown",
   "metadata": {},
   "source": [
    "### 6.4.5 Lambda function\n",
    "**is function without name**\n",
    "\n",
    "    lambda parameters : expression"
   ]
  },
  {
   "cell_type": "code",
   "execution_count": 37,
   "metadata": {},
   "outputs": [
    {
     "name": "stdout",
     "output_type": "stream",
     "text": [
      "4 4\n",
      "1 1\n",
      "0 0\n",
      "1 1\n",
      "4 4\n"
     ]
    }
   ],
   "source": [
    "two = lambda : 2\n",
    "sqr = lambda x : x * x\n",
    "pwr = lambda x, y : x ** y\n",
    "\n",
    "for a in range(-2, 3):\n",
    "    print(sqr(a), end=\" \")\n",
    "    print(pwr(a, two()))"
   ]
  },
  {
   "cell_type": "code",
   "execution_count": 38,
   "metadata": {},
   "outputs": [
    {
     "name": "stdout",
     "output_type": "stream",
     "text": [
      "0\n",
      "1\n",
      "4\n",
      "9\n"
     ]
    }
   ],
   "source": [
    "def sqr(x):\n",
    "    return x**2 + 2*x + 1\n",
    "\n",
    "sqr = lambda x : x**2 + 2*x + 1\n",
    "for i in range(4):\n",
    "    print(sqr(i))"
   ]
  },
  {
   "cell_type": "markdown",
   "metadata": {},
   "source": [
    "#### simplifying function\n"
   ]
  },
  {
   "cell_type": "code",
   "execution_count": null,
   "metadata": {},
   "outputs": [],
   "source": [
    "def printfunction(args, fun):\n",
    "\tfor x in args:\n",
    "\t\tprint('f(', x,')=', fun(x), sep='')\n",
    "\n",
    "def poly(x):\n",
    "\treturn 2 * x**2 - 4 * x + 2\n",
    "\n",
    "printfunction([x for x in range(-2, 3)], poly)"
   ]
  },
  {
   "cell_type": "code",
   "execution_count": null,
   "metadata": {},
   "outputs": [],
   "source": [
    "def printfunction(args, fun):\n",
    "\tfor x in args:\n",
    "\t\tprint('f(', x,')=', fun(x), sep='')\n",
    "\n",
    "printfunction([x for x in range(-2, 3)], lambda x: 2 * x**2 - 4 * x + 2)"
   ]
  },
  {
   "cell_type": "markdown",
   "metadata": {},
   "source": [
    "#### Lambda and map() function\n",
    "\n",
    "    map(func,lst)"
   ]
  },
  {
   "cell_type": "code",
   "execution_count": 44,
   "metadata": {},
   "outputs": [
    {
     "name": "stdout",
     "output_type": "stream",
     "text": [
      "[1, 4, 9, 16, 25]\n",
      "[1, 4, 9, 16, 25]\n"
     ]
    }
   ],
   "source": [
    "def kuadrat(x):\n",
    "    return x**2\n",
    "lst = [1,2,3,4,5]\n",
    "print(list(map(kuadrat,lst)))  # dengan fungsi 'kuadrat'\n",
    "print(list(map(lambda x:x**2,lst))) # dengan lambda"
   ]
  },
  {
   "cell_type": "code",
   "execution_count": null,
   "metadata": {},
   "outputs": [],
   "source": [
    "list1 = [x for x in range(5)]\n",
    "list2 = list(map(lambda x: 2 ** x, list1))\n",
    "print(list2)\n",
    "for x in map(lambda x: x * x, list2):\n",
    "\tprint(x, end=' ')\n",
    "print()"
   ]
  },
  {
   "cell_type": "markdown",
   "metadata": {},
   "source": [
    "#### Lambda and filter() function\n",
    "\n",
    "    filter(func to filter,lst)"
   ]
  },
  {
   "cell_type": "code",
   "execution_count": 46,
   "metadata": {},
   "outputs": [
    {
     "name": "stdout",
     "output_type": "stream",
     "text": [
      "[10, -1, 0, -4, 2]\n",
      "[10, 2]\n"
     ]
    }
   ],
   "source": [
    "from random import seed, randint\n",
    "\n",
    "seed()\n",
    "data = [ randint(-10,10) for x in range(5) ]\n",
    "filtered = list(filter(lambda x: x > 0 and x % 2 == 0, data))\n",
    "print(data)\n",
    "print(filtered)"
   ]
  },
  {
   "cell_type": "markdown",
   "metadata": {},
   "source": [
    "### 6.4.6 Closure\n",
    "**closure is a technique which allows the storing of values in spite of the fact that the context in which they have been created does not exist anymore**\n"
   ]
  },
  {
   "cell_type": "code",
   "execution_count": null,
   "metadata": {},
   "outputs": [],
   "source": [
    "def outer(par):\n",
    "\tloc = par\n",
    "\tdef inner():\n",
    "\t\treturn loc\n",
    "\treturn inner\n",
    "\n",
    "var = 1\n",
    "fun = outer(var)\n",
    "print(fun())"
   ]
  },
  {
   "cell_type": "code",
   "execution_count": null,
   "metadata": {},
   "outputs": [],
   "source": [
    "def makeclosure(par):\n",
    "\tloc = par\n",
    "\tdef power(p):\n",
    "\t\treturn p ** loc\n",
    "\treturn power\n",
    "\n",
    "fsqr = makeclosure(2)\n",
    "fcub = makeclosure(3)\n",
    "for i in range(5):\n",
    "\tprint(i, fsqr(i), fcub(i))"
   ]
  }
 ],
 "metadata": {
  "kernelspec": {
   "display_name": "Python 3",
   "language": "python",
   "name": "python3"
  },
  "language_info": {
   "codemirror_mode": {
    "name": "ipython",
    "version": 3
   },
   "file_extension": ".py",
   "mimetype": "text/x-python",
   "name": "python",
   "nbconvert_exporter": "python",
   "pygments_lexer": "ipython3",
   "version": "3.7.3"
  }
 },
 "nbformat": 4,
 "nbformat_minor": 2
}
