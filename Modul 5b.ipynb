{
 "cells": [
  {
   "cell_type": "markdown",
   "metadata": {},
   "source": [
    "## 5.6 Strings\n",
    "String consists if characters\n",
    "### 5.6.1 Character codes\n",
    "\n",
    "**ASCII (American Standard Code for Information Interchange)**\n",
    "\n",
    "<img src=\"https://edube.org/uploads/media/default/0001/01/cb7c521e42b4b7b6e86b4c65ebcec1dfd7f72863.png\">\n",
    "\n",
    "**Unicode**\n",
    "<img src=\"https://edube.org/uploads/media/default/0001/01/eba16b61c5b6e2aa7fad8057aadb1783d407dca3.png\">\n",
    "\n",
    "**UTF-8 (Unicode Transformation Format**\n",
    "- all Latin characters (and all standard ASCII characters) occupy eight bits;\n",
    "- non-Latin characters occupy 16 bits;\n",
    "- CJK (China-Japan-Korea) ideographs occupy 24 bits."
   ]
  },
  {
   "cell_type": "markdown",
   "metadata": {},
   "source": [
    "### 5.6.2 Operation on strings\n",
    "- concatenated  +\n",
    "- replicated  *\n",
    "\n"
   ]
  },
  {
   "cell_type": "code",
   "execution_count": null,
   "metadata": {},
   "outputs": [],
   "source": [
    "str1 = 'a'\n",
    "str2 = 'b'\n",
    "\n",
    "print(str1 + str2)\n",
    "print(str2 + str1)\n",
    "print(5 * 'a')\n",
    "print('b' * 4)"
   ]
  },
  {
   "cell_type": "markdown",
   "metadata": {},
   "source": [
    "#### ord() and chr()"
   ]
  },
  {
   "cell_type": "code",
   "execution_count": null,
   "metadata": {},
   "outputs": [],
   "source": [
    "ch1 = 'a' \n",
    "ch2 = ' ' # space\n",
    "\n",
    "print(ord(ch1))\n",
    "print(ord(ch2))"
   ]
  },
  {
   "cell_type": "code",
   "execution_count": null,
   "metadata": {},
   "outputs": [],
   "source": [
    "print(chr(97))\n",
    "print(chr(945))"
   ]
  },
  {
   "cell_type": "markdown",
   "metadata": {},
   "source": [
    "#### Indexing and slicing\n",
    "Just like other sequences"
   ]
  },
  {
   "cell_type": "code",
   "execution_count": null,
   "metadata": {},
   "outputs": [],
   "source": [
    "# Slices\n",
    "\n",
    "alpha = \"abdefg\"\n",
    "\n",
    "print(alpha[1:3])\n",
    "print(alpha[3:])\n",
    "print(alpha[:3])\n",
    "print(alpha[3:-2])\n",
    "print(alpha[-3:4])\n",
    "print(alpha[::2])\n",
    "print(alpha[1::2])"
   ]
  },
  {
   "cell_type": "markdown",
   "metadata": {},
   "source": [
    "#### in and not in"
   ]
  },
  {
   "cell_type": "code",
   "execution_count": null,
   "metadata": {},
   "outputs": [],
   "source": [
    "alphabet = \"abcdefghijklmnopqrstuvwxyz\"\n",
    "\n",
    "print(\"f\" in alphabet)\n",
    "print(\"F\" in alphabet)\n",
    "print(\"1\" in alphabet)\n",
    "print(\"ghi\" in alphabet)\n",
    "print(\"Xyz\" in alphabet)"
   ]
  },
  {
   "cell_type": "markdown",
   "metadata": {},
   "source": [
    "#### Strings are immutable"
   ]
  },
  {
   "cell_type": "markdown",
   "metadata": {},
   "source": [
    "Some operation\n",
    "\n",
    "    min()\n",
    "    max()\n",
    "    str.index(chr)\n",
    "    list()\n",
    "    str.count(chr)"
   ]
  },
  {
   "cell_type": "code",
   "execution_count": null,
   "metadata": {},
   "outputs": [],
   "source": [
    "min(\"asaSAij\")\n",
    "max(\"asaSAij\")\n",
    "# Demonstrating the index() method\n",
    "print(\"aAbByYzZaA\".index(\"b\"))\n",
    "print(\"aAbByYzZaA\".index(\"Z\"))\n",
    "print(\"aAbByYzZaA\".index(\"A\"))"
   ]
  },
  {
   "cell_type": "markdown",
   "metadata": {},
   "source": [
    "Strings methods\n",
    "\n",
    "    str.capitalize()\n",
    "    str.center(n,chr=' ')\n",
    "    str.endswith(str2)\n",
    "    str.find(str2)\n",
    "    str.isalnum()\n",
    "    str.isalpha()\n",
    "    str.isdigit()\n",
    "    str.islower()\n",
    "    str.isspace()\n",
    "    str.isupper()\n",
    "    str.join(lststr)\n",
    "    str.lower()\n",
    "    str.lstrip(str2)\n",
    "    str.replace(str2)\n",
    "    str.rfind(str2)\n",
    "    str.rstrip(str2)\n",
    "    str.split()\n",
    "    str.startswith(str2)\n",
    "    str.strip(str2)\n",
    "    str.swapcase()\n",
    "    str.title()\n",
    "    str.upper()"
   ]
  },
  {
   "cell_type": "markdown",
   "metadata": {},
   "source": [
    "#### Lab - Define split function\n",
    "Your task is to write your own function, which behaves almost exactly like the original split() method, i.e.:\n",
    "\n",
    "- it should accept exactly one argument - a string;\n",
    "- it should return a list of words created from the string, divided in the places where the string contains whitespaces;\n",
    "- if the string is empty, the function should return an empty list;\n",
    "- its name should be mysplit()"
   ]
  },
  {
   "cell_type": "code",
   "execution_count": null,
   "metadata": {},
   "outputs": [],
   "source": [
    "def mysplit(strng):\n",
    "#\n",
    "# put your code here\n",
    "#\n",
    "\n",
    "print(mysplit(\"To be or not to be, that is the question\"))\n",
    "print(mysplit(\"To be or not to be,that is the question\"))\n",
    "print(mysplit(\"   \"))\n",
    "print(mysplit(\" abc \"))\n",
    "print(mysplit(\"\"))"
   ]
  },
  {
   "cell_type": "markdown",
   "metadata": {},
   "source": [
    "### 5.6.3 Comparing Strings\n",
    "#### Just like logical comparison\n"
   ]
  },
  {
   "cell_type": "markdown",
   "metadata": {},
   "source": [
    "### 5.6.4 Sorting\n",
    "Two ways: method and function\n",
    "\n",
    "    sorted(lst)\n",
    "    lst.sort()"
   ]
  },
  {
   "cell_type": "markdown",
   "metadata": {},
   "source": [
    "#### Lab - Seven Segments\n",
    "Your task is to write a program which is able to simulate the work of a seven-display device, although you're going to use single LEDs instead of segments.\n",
    "\n",
    "Each digit is constructed from 13 LEDs (some lit, some dark, of course) - that's how we imagine it:\n",
    "\n",
    "      # ### ### # # ### ### ### ### ### ### \n",
    "      #   #   # # # #   #     # # # # # # # \n",
    "      # ### ### ### ### ###   # ### ### # # \n",
    "      # #     #   #   # # #   # # #   # # # \n",
    "      # ### ###   # ### ###   # ### ### ###\n",
    "\n",
    "Note: the number 8 shows all the LED lights on.\n",
    "\n",
    "Your code has to display any non-negative integer number entered by the user.\n",
    "\n",
    "Tip: using a list containing patterns of all ten digits may be very helpful.\n",
    "\n",
    "Test data\n",
    "Sample input:\n",
    "\n",
    "123\n",
    "\n",
    "Sample output:\n",
    "\n",
    "      # ### ### \n",
    "      #   #   # \n",
    "      # ### ### \n",
    "      # #     # \n",
    "      # ### ### \n",
    "\n",
    "Sample input:\n",
    "\n",
    "9081726354\n",
    "\n",
    "Sample output:\n",
    "\n",
    "    ### ### ###   # ### ### ### ### ### # # \n",
    "    # # # # # #   #   #   # #     # #   # # \n",
    "    ### # # ###   #   # ### ### ### ### ### \n",
    "      # # # # #   #   # #   # #   #   #   # \n",
    "    ### ### ###   #   # ### ### ### ###   # \n"
   ]
  },
  {
   "cell_type": "markdown",
   "metadata": {},
   "source": [
    "### Encription: Caesar\n",
    "The program in the editor is a very simple (but working) implementation of the algorithm.\n",
    "\n",
    "We've written it using the following assumptions:\n",
    "\n",
    "- it accepts Latin letters only (note: the Romans used neither whitespaces nor digits)\n",
    "- all letters of the message are in upper case (note: the Romans knew only capitals)\n",
    "\n",
    "The code, fed with this message:\n",
    "\n",
    "    AVE CAESAR\n",
    "\n",
    "outputs:\n",
    "\n",
    "    BWFDBFTBS"
   ]
  },
  {
   "cell_type": "code",
   "execution_count": null,
   "metadata": {},
   "outputs": [],
   "source": [
    "# Caesar cipher\n",
    "text = input(\"Enter your message: \")\n",
    "cipher = ''\n",
    "for char in text:\n",
    "    if not char.isalpha():\n",
    "        continue\n",
    "    char = char.upper()\n",
    "    code = ord(char) + 1\n",
    "    if code > ord('Z'):\n",
    "        code = ord('A')\n",
    "    cipher += chr(code)\n",
    "\n",
    "print(cipher)"
   ]
  },
  {
   "cell_type": "markdown",
   "metadata": {},
   "source": [
    "### Lab - Improve Caesar encription\n",
    "\n",
    "Your task is to write a program which:\n",
    "\n",
    "- asks the user for one line of text to encrypt;\n",
    "- asks the user for a shift value (an integer number from the range 1..25 - note: you should force the user to enter a valid shift value (don't give up and don't let bad data fool you!)\n",
    "- prints out the encoded text.\n",
    "\n",
    "ample input:\n",
    "\n",
    "    abcxyzABCxyz 123\n",
    "    2\n",
    "\n",
    "Sample output:\n",
    "\n",
    "    cdezabCDEzab 123\n",
    "\n",
    "Sample input:\n",
    "\n",
    "    The die is cast\n",
    "    25\n",
    "\n",
    "Sample output:\n",
    "\n",
    "    Sgd chd hr bzrs"
   ]
  },
  {
   "cell_type": "code",
   "execution_count": null,
   "metadata": {},
   "outputs": [],
   "source": []
  }
 ],
 "metadata": {
  "kernelspec": {
   "display_name": "Python 3",
   "language": "python",
   "name": "python3"
  },
  "language_info": {
   "codemirror_mode": {
    "name": "ipython",
    "version": 3
   },
   "file_extension": ".py",
   "mimetype": "text/x-python",
   "name": "python",
   "nbconvert_exporter": "python",
   "pygments_lexer": "ipython3",
   "version": "3.7.3"
  }
 },
 "nbformat": 4,
 "nbformat_minor": 2
}
