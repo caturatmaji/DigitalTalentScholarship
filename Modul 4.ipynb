{
 "cells": [
  {
   "cell_type": "markdown",
   "metadata": {},
   "source": [
    "# Module 4 - Functions, tuples, dictionaries, and data processing\n",
    "\n",
    "### In this module, you will learn about:\n",
    "- defining and using functions;\n",
    "- different ways of passing arguments;\n",
    "- name scopes;\n",
    "- tuples and dictionaries;\n",
    "- data processing."
   ]
  },
  {
   "cell_type": "markdown",
   "metadata": {},
   "source": [
    "#### Where do the functions come from?\n",
    "- integral part of Python -- built-in functions;\n",
    "- from Python's preinstalled modules\n",
    "- directly from your code\n",
    "\n",
    "<img src=\"https://edube.org/uploads/media/default/0001/01/0dc6293734f2ffe6848d97d12a91280ecb7ab3f1.png\">"
   ]
  },
  {
   "cell_type": "markdown",
   "metadata": {},
   "source": [
    "## 4.1 Defining function\n",
    "#### syntax\n",
    "\n",
    "    def functionName():\n",
    "        functionBody\n",
    "\n",
    "#### how does it work?\n",
    "<img src=\"https://edube.org/uploads/media/default/0001/01/f3a3fa6991f0ecb817a2a09c1aac0b45dba5579a.png\">"
   ]
  },
  {
   "cell_type": "code",
   "execution_count": 1,
   "metadata": {},
   "outputs": [
    {
     "name": "stdout",
     "output_type": "stream",
     "text": [
      "We start here.\n",
      "Enter next value\n",
      "We end here.\n"
     ]
    }
   ],
   "source": [
    "def message():\n",
    "    print(\"Enter next value\")\n",
    "\n",
    "print(\"We start here.\")\n",
    "message()\n",
    "print(\"We end here.\")"
   ]
  },
  {
   "cell_type": "markdown",
   "metadata": {},
   "source": [
    "## 4.2 Parameterized Function\n",
    "#### syntax\n",
    "\n",
    "    def function(parameters):\n",
    "        ###\n",
    "        \n",
    "#### parameters vs arguments\n",
    "- parameters live inside functions (this is their natural environment)\n",
    "- arguments exist outside functions, and are carriers of values passed to corresponding parameters.\n",
    "\n",
    "### 4.2.1 Number of parameters"
   ]
  },
  {
   "cell_type": "code",
   "execution_count": 3,
   "metadata": {},
   "outputs": [
    {
     "name": "stdout",
     "output_type": "stream",
     "text": [
      "Enter a number: 1234\n",
      "1234\n"
     ]
    }
   ],
   "source": [
    "# one parameter\n",
    "number = 1234\n",
    "def message(number):\n",
    "    print(\"Enter a number:\", number)\n",
    "\n",
    "#number = 1234\n",
    "message(number)\n",
    "\n",
    "print(number)"
   ]
  },
  {
   "cell_type": "code",
   "execution_count": 4,
   "metadata": {},
   "outputs": [
    {
     "name": "stdout",
     "output_type": "stream",
     "text": [
      "Hello, my name is Luke Skywalker\n",
      "Hello, my name is Skywalker , Luke\n",
      "I'm Skywalker\n",
      "Gabung SkywalkerLuke\n",
      "Hello, my name is Jesse Quick\n",
      "Hello, my name is Quick , Jesse\n",
      "I'm Quick\n",
      "Gabung QuickJesse\n",
      "Hello, my name is Clark Kent\n",
      "Hello, my name is Kent , Clark\n",
      "I'm Kent\n",
      "Gabung KentClark\n"
     ]
    }
   ],
   "source": [
    "# two parameters\n",
    "def introduction(firstName, lastName):\n",
    "    print(\"Hello, my name is\", lastName, firstName)\n",
    "    print(\"Hello, my name is\", firstName, \",\", lastName)\n",
    "    print(\"I'm\", firstName)\n",
    "    gab = firstName + lastName\n",
    "    print(\"Gabung\",gab)\n",
    "\n",
    "introduction(\"Skywalker\", \"Luke\")\n",
    "introduction(\"Quick\", \"Jesse\")\n",
    "introduction(\"Kent\", \"Clark\")"
   ]
  },
  {
   "cell_type": "code",
   "execution_count": 6,
   "metadata": {},
   "outputs": [
    {
     "name": "stdout",
     "output_type": "stream",
     "text": [
      "mulai\n",
      "c = 5.0\n",
      "selesai\n"
     ]
    }
   ],
   "source": [
    "# definisi fungsi\n",
    "def hipot(a,b):\n",
    "    c = (a**2 + b**2)**.5\n",
    "    print(\"c =\",c)\n",
    "\n",
    "# tentukan nilai masukan a dan b untuk fungsi hipot\n",
    "a = 3\n",
    "b = 4\n",
    "# panggil fungsinya\n",
    "print(\"mulai\")\n",
    "hipot(a,b)\n",
    "\n",
    "print(\"selesai\")"
   ]
  },
  {
   "cell_type": "code",
   "execution_count": 19,
   "metadata": {},
   "outputs": [
    {
     "name": "stdout",
     "output_type": "stream",
     "text": [
      "Nilai akhirnya: 86.0\n",
      "Nilai A\n"
     ]
    },
    {
     "ename": "NameError",
     "evalue": "name 'akhir' is not defined",
     "output_type": "error",
     "traceback": [
      "\u001b[1;31m---------------------------------------------------------------------------\u001b[0m",
      "\u001b[1;31mNameError\u001b[0m                                 Traceback (most recent call last)",
      "\u001b[1;32m<ipython-input-19-79a9ebc704ea>\u001b[0m in \u001b[0;36m<module>\u001b[1;34m\u001b[0m\n\u001b[0;32m     12\u001b[0m \u001b[0muas\u001b[0m \u001b[1;33m=\u001b[0m \u001b[1;36m90\u001b[0m\u001b[1;33m\u001b[0m\u001b[1;33m\u001b[0m\u001b[0m\n\u001b[0;32m     13\u001b[0m \u001b[0mnilai\u001b[0m\u001b[1;33m(\u001b[0m\u001b[0mUAS\u001b[0m\u001b[1;33m=\u001b[0m\u001b[0muas\u001b[0m\u001b[1;33m,\u001b[0m\u001b[0mUTS\u001b[0m\u001b[1;33m=\u001b[0m\u001b[0muts\u001b[0m\u001b[1;33m)\u001b[0m\u001b[1;33m\u001b[0m\u001b[1;33m\u001b[0m\u001b[0m\n\u001b[1;32m---> 14\u001b[1;33m \u001b[0mprint\u001b[0m\u001b[1;33m(\u001b[0m\u001b[0makhir\u001b[0m\u001b[1;33m)\u001b[0m\u001b[1;33m\u001b[0m\u001b[1;33m\u001b[0m\u001b[0m\n\u001b[0m",
      "\u001b[1;31mNameError\u001b[0m: name 'akhir' is not defined"
     ]
    }
   ],
   "source": [
    "pUas = 0.6\n",
    "pUts = 0.4\n",
    "def nilai(UTS,UAS):\n",
    "    akhir = pUas*UAS + pUts*UTS\n",
    "    print(\"Nilai akhirnya:\",round(akhir,0))\n",
    "    \n",
    "    if akhir>=75:\n",
    "        print(\"Nilai A\")\n",
    "    else:\n",
    "        print(\"Nilai E\")\n",
    "    ########\n",
    "    \n",
    "uts = 80\n",
    "uas = 90\n",
    "nilai(UAS=uas,UTS=uts)\n",
    "print(akhir)"
   ]
  },
  {
   "cell_type": "markdown",
   "metadata": {},
   "source": [
    "### 4.2.2 Keyword argument passing\n",
    "where the meaning of the argument is dictated by its name, not by its position - it's called keyword argument passing.\n"
   ]
  },
  {
   "cell_type": "code",
   "execution_count": 7,
   "metadata": {},
   "outputs": [
    {
     "name": "stdout",
     "output_type": "stream",
     "text": [
      "Hello, my name is James Bond\n",
      "Hello, my name is Luke Skywalker\n"
     ]
    }
   ],
   "source": [
    "def introduction(firstName, lastName):\n",
    "    print(\"Hello, my name is\", firstName, lastName)\n",
    "\n",
    "introduction(firstName = \"James\", lastName = \"Bond\")\n",
    "introduction(lastName = \"Skywalker\", firstName = \"Luke\")"
   ]
  },
  {
   "cell_type": "markdown",
   "metadata": {},
   "source": [
    "### 4.2.3 Mixing positional and keyword arguments\n"
   ]
  },
  {
   "cell_type": "code",
   "execution_count": 17,
   "metadata": {},
   "outputs": [
    {
     "name": "stdout",
     "output_type": "stream",
     "text": [
      "2 + 3 + 1 = 6\n",
      "1 + 3 + 2 = 6\n",
      "5 + 9 + 0 = 14\n"
     ]
    }
   ],
   "source": [
    "def sum(a, b, c = 0):\n",
    "    print(a, \"+\", b, \"+\", c, \"=\", a + b + c)\n",
    "\n",
    "sum(c = 1, a = 2, b = 3)\n",
    "sum(1, c = 2, b = 3)\n",
    "# sum(b = 1, a = 2, 3) # keyword harus setelah positional\n",
    "sum(5,9)"
   ]
  },
  {
   "cell_type": "code",
   "execution_count": 16,
   "metadata": {},
   "outputs": [
    {
     "name": "stdout",
     "output_type": "stream",
     "text": [
      "saya@dan@kamu\n",
      "sudahlah\n"
     ]
    }
   ],
   "source": [
    "print(\"saya\",\"dan\",\"kamu\",sep = \"@\")\n",
    "print(\"sudahlah\")"
   ]
  },
  {
   "cell_type": "markdown",
   "metadata": {},
   "source": [
    "### 4.2.4 Default (predefined) value"
   ]
  },
  {
   "cell_type": "code",
   "execution_count": null,
   "metadata": {},
   "outputs": [],
   "source": [
    "def introduction(firstName, lastName=\"Smith\"):\n",
    "    print(\"Hello, my name is\", firstName, lastName)\n",
    "\n",
    "introduction(\"James\",\"Bond\")\n",
    "introduction(\"Luke\")"
   ]
  },
  {
   "cell_type": "markdown",
   "metadata": {},
   "source": [
    "## 4.3 Returning result\n",
    "#### two variants\n",
    "- return without an expression\n",
    "- return with an expression"
   ]
  },
  {
   "cell_type": "code",
   "execution_count": null,
   "metadata": {},
   "outputs": [],
   "source": [
    "def boringFunction():\n",
    "    return 123\n",
    "\n",
    "x = boringFunction()\n",
    "\n",
    "print(\"The boringFunction has returned its result. It's:\", x)"
   ]
  },
  {
   "cell_type": "markdown",
   "metadata": {},
   "source": [
    "<img src=\"https://edube.org/uploads/media/default/0001/01/412839c04d4f85c32d02be30712b7247d5d9f5a6.png\">"
   ]
  },
  {
   "cell_type": "code",
   "execution_count": null,
   "metadata": {},
   "outputs": [],
   "source": [
    "def sumab(a,b):\n",
    "    return a+b\n",
    "\n",
    "x = 5\n",
    "y = 6\n",
    "z = sumab(x,y)\n",
    "print(\"result is:\",z)"
   ]
  },
  {
   "cell_type": "markdown",
   "metadata": {},
   "source": [
    "#### return value can be anyting\n",
    "- string\n",
    "- number\n",
    "- list\n",
    "- boolean\n",
    "- None\n",
    "- anything"
   ]
  },
  {
   "cell_type": "code",
   "execution_count": null,
   "metadata": {},
   "outputs": [],
   "source": [
    "def strangeListFunction(n):\n",
    "    strangeList = []\n",
    "    \n",
    "    for i in range(0, n):\n",
    "        strangeList.insert(0, i)\n",
    "    \n",
    "    return strangeList\n",
    "\n",
    "print(strangeListFunction(5))"
   ]
  },
  {
   "cell_type": "markdown",
   "metadata": {},
   "source": [
    "### Lab: Leap year using for list\n",
    "Your task is to write and test a function which takes one argument (a year) and returns True if the year is a leap year, or False otherwise.\n",
    "\n",
    "The seed of the function is already sown in the skeleton code in the editor.\n",
    "\n",
    "Note: we've also prepared a short testing code, which you can use to test your function.\n",
    "\n",
    "The code uses two lists - one with the test data, and the other containing the expected results. The code will tell you if any of your results are invalid."
   ]
  },
  {
   "cell_type": "code",
   "execution_count": null,
   "metadata": {},
   "outputs": [],
   "source": [
    "def isYearLeap(year):\n",
    "#\n",
    "# put your code here\n",
    "#\n",
    "\n",
    "testData = [1900, 2000, 2016, 1987]\n",
    "testResults = [False, True, True, False]\n",
    "for i in range(len(testData)):\n",
    "\tyr = testData[i]\n",
    "\tprint(yr,\"->\",end=\"\")\n",
    "\tresult = isYearLeap(yr)\n",
    "\tif result == testResults[i]:\n",
    "\t\tprint(\"OK\")\n",
    "\telse:\n",
    "\t\tprint(\"Failed\")"
   ]
  },
  {
   "cell_type": "markdown",
   "metadata": {},
   "source": [
    "### Lab: Prime number\n",
    "Your task is to write a function checking whether a number is prime or not.\n",
    "\n",
    "The function:\n",
    "\n",
    "- is called isPrime;\n",
    "- takes one argument (the value to check)\n",
    "- returns True if the argument is a prime number, and False otherwise.\n",
    "**Hint**: try to divide the argument by all subsequent values (starting from 2) and check the remainder - if it's zero, your number cannot be a prime; think carefully about when you should stop the process.\n",
    "\n",
    "If you need to know the square root of any value, you can utilize the ** operator. Remember: the square root of x is the same as x0.5\n",
    "\n",
    "Complete the code in the editor.\n"
   ]
  },
  {
   "cell_type": "code",
   "execution_count": null,
   "metadata": {},
   "outputs": [],
   "source": [
    "def isPrime(num):\n",
    "#\n",
    "# put your code here\n",
    "#\n",
    "\n",
    "for i in range(1, 20):\n",
    "\tif isPrime(i + 1):\n",
    "\t\t\tprint(i + 1, end=\" \")\n",
    "print()"
   ]
  },
  {
   "cell_type": "markdown",
   "metadata": {},
   "source": [
    "## 4.4 Function and scopes\n",
    "### 4.4.1 Scopes\n",
    "#### not every variable exist inside every line of program"
   ]
  },
  {
   "cell_type": "code",
   "execution_count": 19,
   "metadata": {},
   "outputs": [
    {
     "name": "stdout",
     "output_type": "stream",
     "text": [
      "10\n"
     ]
    }
   ],
   "source": [
    "def scopeTest():\n",
    "    x = 123\n",
    "\n",
    "x = 10\n",
    "scopeTest()\n",
    "print(x)    # x unknown"
   ]
  },
  {
   "cell_type": "code",
   "execution_count": null,
   "metadata": {},
   "outputs": [],
   "source": [
    "def myFunction():\n",
    "    print(\"Do I know that variable?\", var)  # var is global\n",
    "\n",
    "var = 1\n",
    "myFunction()\n",
    "print(var)"
   ]
  },
  {
   "cell_type": "code",
   "execution_count": null,
   "metadata": {},
   "outputs": [],
   "source": [
    "def myFunction():\n",
    "    global var     # var will be known outside function\n",
    "    var = 2\n",
    "    print(\"Do I know that variable?\", var)\n",
    "\n",
    "var = 1\n",
    "myFunction()\n",
    "print(var)"
   ]
  },
  {
   "cell_type": "markdown",
   "metadata": {},
   "source": [
    "### 4.4.2 Function with many variables\n",
    "#### calculating BMI\n",
    "<img src=\"https://edube.org/uploads/media/default/0001/01/c68be6d0a6bcec7d94c527db809dc7a9735ed0e4.png\">"
   ]
  },
  {
   "cell_type": "code",
   "execution_count": null,
   "metadata": {},
   "outputs": [],
   "source": [
    "def bmi(weight, height):\n",
    "    return weight / height ** 2\n",
    "\n",
    "while True:\n",
    "    we = float(input(\"your weight (kg): \"))\n",
    "    he = float(input(\"your height (m): \"))\n",
    "    print(bmi(we,he))\n",
    "    again = input(\"Test BMI again? (n or no to exit) \")\n",
    "    if again.upper() == \"N\" or again.upper() == \"NO\":\n",
    "        break"
   ]
  },
  {
   "cell_type": "markdown",
   "metadata": {},
   "source": [
    "#### checking triangle"
   ]
  },
  {
   "cell_type": "code",
   "execution_count": null,
   "metadata": {},
   "outputs": [],
   "source": [
    "def isItATriangle(a, b, c):\n",
    "    if a + b <= c:\n",
    "        return False\n",
    "    if b + c <= a:\n",
    "        return False\n",
    "    if c + a <= b:\n",
    "        return False\n",
    "    return True\n",
    "\n",
    "print(isItATriangle(1, 1, 1))\n",
    "print(isItATriangle(1, 1, 3))"
   ]
  },
  {
   "cell_type": "markdown",
   "metadata": {},
   "source": [
    "#### factorial"
   ]
  },
  {
   "cell_type": "code",
   "execution_count": null,
   "metadata": {},
   "outputs": [],
   "source": [
    "def factorialFun(n):\n",
    "    if n < 0:\n",
    "        return None\n",
    "    if n < 2:\n",
    "        return 1\n",
    "    \n",
    "    product = 1\n",
    "    for i in range(2, n + 1):\n",
    "        product *= i\n",
    "    return product\n",
    "\n",
    "for n in range(1, 6): # testing\n",
    "    print(n, factorialFun(n))"
   ]
  },
  {
   "cell_type": "markdown",
   "metadata": {},
   "source": [
    "#### fibonacci"
   ]
  },
  {
   "cell_type": "code",
   "execution_count": null,
   "metadata": {},
   "outputs": [],
   "source": [
    "def fib(n):\n",
    "    if n < 1:\n",
    "         return None\n",
    "    if n < 3:\n",
    "        return 1\n",
    "\n",
    "    elem1 = elem2 = 1\n",
    "    sum = 0\n",
    "    for i in range(3, n + 1):\n",
    "        sum = elem1 + elem2\n",
    "        elem1, elem2 = elem2, sum\n",
    "    return sum\n",
    "\n",
    "for n in range(1, 10): # testing\n",
    "    print(n, \"->\", fib(n))"
   ]
  },
  {
   "cell_type": "markdown",
   "metadata": {},
   "source": [
    "### 4.4.3 Recursion\n",
    "#### recursion is a technique where a function invokes itself."
   ]
  },
  {
   "cell_type": "code",
   "execution_count": null,
   "metadata": {},
   "outputs": [],
   "source": [
    "# factorial using recursion technique\n",
    "def factorialFun(n):\n",
    "    print(\"n =\",n)\n",
    "    if n < 0:\n",
    "        return None\n",
    "    if n < 2:\n",
    "        return 1\n",
    "    return n * factorialFun(n - 1)\n",
    "\n",
    "n = int(input(\"Bilangan: \"))\n",
    "print(\"Faktorial\",n,\"=\",factorialFun(n))"
   ]
  },
  {
   "cell_type": "code",
   "execution_count": null,
   "metadata": {},
   "outputs": [],
   "source": [
    "# fibonacci using recursion technique\n",
    "def fib(n):\n",
    "    if n < 1:\n",
    "         return None\n",
    "    if n < 3:\n",
    "        return 1\n",
    "\n",
    "    elem1 = elem2 = 1\n",
    "    sum = 0\n",
    "    for i in range(3, n + 1):\n",
    "        sum = elem1 + elem2\n",
    "        elem1, elem2 = elem2, sum\n",
    "    return sum\n",
    "\n",
    "for n in range(1, 10):\n",
    "    print(n, \"->\", fib(n))"
   ]
  },
  {
   "cell_type": "markdown",
   "metadata": {},
   "source": [
    "## 4.5 Tuples and Dictionaries\n",
    "### Sequence type\n",
    "A sequence type is a type of data in Python which is able to **store more than one value (or less than one, as a sequence may be empty)**, and these values **can be sequentially (hence the name) browsed**, element by element.\n",
    "\n",
    "### Mutability\n",
    "\n",
    "Mutability is a property of any of Python's data that describes its readiness to **be freely changed** during program execution\n",
    " \n",
    "- insert\n",
    "- append\n",
    "- assign / modify element\n",
    "- remove element\n",
    "\n",
    "\n",
    "    list --> mutable\n",
    "    tuple --> immutable\n",
    "    dictionary --> mutable\n"
   ]
  },
  {
   "cell_type": "markdown",
   "metadata": {},
   "source": [
    "## 4.5.1 Tuple\n",
    "- immutable List\n",
    "- using ( )"
   ]
  },
  {
   "cell_type": "code",
   "execution_count": null,
   "metadata": {},
   "outputs": [],
   "source": [
    "myTuple = (1, 10, 100, 1000)\n",
    "\n",
    "print(myTuple[0])\n",
    "\n",
    "for elem in myTuple:\n",
    "    print(elem)"
   ]
  },
  {
   "cell_type": "code",
   "execution_count": null,
   "metadata": {},
   "outputs": [],
   "source": [
    "# modify -- assign new tupple to existing tuple variable\n",
    "myTuple = (1, 10, 100)\n",
    "\n",
    "myTuple = myTuple + (1000, 10000)\n",
    "t2 = myTuple * 3\n",
    "\n",
    "print(len(t2))\n",
    "print(myTuple)\n",
    "print(t2)\n",
    "print(10 in myTuple)\n",
    "print(-10 not in myTuple)"
   ]
  },
  {
   "cell_type": "markdown",
   "metadata": {},
   "source": [
    "### 4.5.2 Dictionary\n",
    "- key - value pairs\n",
    "- mutable\n",
    "- using { }\n",
    "\n",
    "#### key-value pairs:\n",
    "- each key must be unique \n",
    "- a key may be data of any type\n",
    "- a dictionary is not a list \n",
    "- the len() function works for dictionaries\n",
    "- a dictionary is a one-way tool"
   ]
  },
  {
   "cell_type": "code",
   "execution_count": null,
   "metadata": {},
   "outputs": [],
   "source": [
    "dict = {\"cat\" : \"chat\", \"dog\" : \"chien\", \"horse\" : \"cheval\"}\n",
    "phoneNumbers = {'boss' : 5551234567, 'Suzy' : 22657854310}\n",
    "emptyDictionary = {}\n",
    "\n",
    "print(dict)\n",
    "print(phoneNumbers)\n",
    "print(emptyDictionary)\n",
    "print(dict['horse']) # key: horse dari dictionary dict"
   ]
  },
  {
   "cell_type": "code",
   "execution_count": null,
   "metadata": {},
   "outputs": [],
   "source": [
    "# browsing dictionary\n",
    "dict = {\"cat\" : \"chat\", \"dog\" : \"chien\", \"horse\" : \"cheval\"}\n",
    "words = ['cat', 'lion', 'horse']\n",
    "\n",
    "for word in words:\n",
    "    if word in dict:\n",
    "        print(word, \"->\", dict[word])\n",
    "    else:\n",
    "        print(word, \"is not in dictionary\")"
   ]
  },
  {
   "cell_type": "markdown",
   "metadata": {},
   "source": [
    "#### the key()"
   ]
  },
  {
   "cell_type": "code",
   "execution_count": null,
   "metadata": {},
   "outputs": [],
   "source": [
    "dict = {\"cat\" : \"chat\", \"dog\" : \"chien\", \"horse\" : \"cheval\"}\n",
    "\n",
    "for key in dict.keys():\n",
    "    print(key, \"->\", dict[key])"
   ]
  },
  {
   "cell_type": "markdown",
   "metadata": {},
   "source": [
    "#### the items()"
   ]
  },
  {
   "cell_type": "code",
   "execution_count": null,
   "metadata": {},
   "outputs": [],
   "source": [
    "dict = {\"cat\" : \"chat\", \"dog\" : \"chien\", \"horse\" : \"cheval\"}\n",
    "\n",
    "for english, french in dict.items():\n",
    "    print(english, \"->\", french)"
   ]
  },
  {
   "cell_type": "markdown",
   "metadata": {},
   "source": [
    "#### the values()"
   ]
  },
  {
   "cell_type": "code",
   "execution_count": null,
   "metadata": {},
   "outputs": [],
   "source": [
    "dict = {\"cat\" : \"chat\", \"dog\" : \"chien\", \"horse\" : \"cheval\"}\n",
    "\n",
    "for french in dict.values():\n",
    "    print(french)"
   ]
  },
  {
   "cell_type": "markdown",
   "metadata": {},
   "source": [
    "### 4.5.3 Modifying dictionaries\n",
    "#### using key"
   ]
  },
  {
   "cell_type": "code",
   "execution_count": null,
   "metadata": {},
   "outputs": [],
   "source": [
    "dict = {\"cat\" : \"chat\", \"dog\" : \"chien\", \"horse\" : \"cheval\"}\n",
    "\n",
    "dict['ca'] = 'minou'\n",
    "print(dict)"
   ]
  },
  {
   "cell_type": "markdown",
   "metadata": {},
   "source": [
    "#### using update()"
   ]
  },
  {
   "cell_type": "code",
   "execution_count": null,
   "metadata": {},
   "outputs": [],
   "source": [
    "dict = {\"cat\" : \"chat\", \"dog\" : \"chien\", \"horse\" : \"cheval\"}\n",
    "\n",
    "dict.update({\"duck\" : \"canard\", \"chicken\" : \"pitik\"})\n",
    "print(dict)"
   ]
  },
  {
   "cell_type": "markdown",
   "metadata": {},
   "source": [
    "#### removing item"
   ]
  },
  {
   "cell_type": "code",
   "execution_count": null,
   "metadata": {},
   "outputs": [],
   "source": [
    "dict = {\"cat\" : \"chat\", \"dog\" : \"chien\", \"horse\" : \"cheval\"}\n",
    "\n",
    "del dict['dog']\n",
    "print(dict)"
   ]
  },
  {
   "cell_type": "markdown",
   "metadata": {},
   "source": [
    "#### tuple and dictionaries together"
   ]
  },
  {
   "cell_type": "code",
   "execution_count": null,
   "metadata": {},
   "outputs": [],
   "source": [
    "schoolClass = {}\n",
    "\n",
    "while True:\n",
    "    name = input(\"Enter the student's name (or type exit to stop): \")\n",
    "    if name == 'exit':\n",
    "        break\n",
    "    \n",
    "    score = int(input(\"Enter the student's score (0-10): \"))\n",
    "    \n",
    "    if name in schoolClass:\n",
    "        schoolClass[name] += (score,)\n",
    "    else:\n",
    "        schoolClass[name] = (score,)\n",
    "        \n",
    "for name in sorted(schoolClass.keys()):\n",
    "    sum = 0\n",
    "    counter = 0\n",
    "    for score in schoolClass[name]:\n",
    "        sum += score\n",
    "        counter += 1\n",
    "    print(name, \":\", sum / counter)"
   ]
  },
  {
   "cell_type": "markdown",
   "metadata": {},
   "source": [
    "### Lab: Tic tac toe\n",
    "Your task is to write a simple program which pretends to play tic-tac-toe with the user. To make it all easier for you, we've decided to simplify the game. Here are our assumptions:\n",
    "\n",
    "- the computer (i.e., your program) should play the game using 'X's;\n",
    "- the user (e.g., you) should play the game using 'O's;\n",
    "- the first move belongs to the computer - it always puts its first 'X' in the middle of the board;\n",
    "- all the squares are numbered row by row starting with 1 (see the example session below for reference)\n",
    "- the user inputs their move by entering the number of the square they choose - the number must be valid, i.e., it must be an integer, it must be greater than 0 and less than 10, and it cannot point to a field which is already occupied;\n",
    "- the program checks if the game is over - there are four possible verdicts: the game should continue, or the game ends with a tie, your win, or the computer's win;\n",
    "- the computer responds with its move and the check is repeated;\n",
    "don't implement any form of artificial intelligence - a random field choice made by the computer is good enough for the game.\n",
    "The example session with the program may look as follows:\n",
    "\n",
    "\n",
    "    +-------+-------+-------+\n",
    "    |       |       |       |\n",
    "    |   1   |   2   |   3   |\n",
    "    |       |       |       |\n",
    "    +-------+-------+-------+\n",
    "    |       |       |       |\n",
    "    |   4   |   X   |   6   |\n",
    "    |       |       |       |\n",
    "    +-------+-------+-------+\n",
    "    |       |       |       |\n",
    "    |   7   |   8   |   9   |\n",
    "    |       |       |       |\n",
    "    +-------+-------+-------+\n",
    "    Enter your move: 1\n",
    "    +-------+-------+-------+\n",
    "    |       |       |       |\n",
    "    |   O   |   2   |   3   |\n",
    "    |       |       |       |\n",
    "    +-------+-------+-------+\n",
    "    |       |       |       |\n",
    "    |   4   |   X   |   6   |\n",
    "    |       |       |       |\n",
    "    +-------+-------+-------+\n",
    "    |       |       |       |\n",
    "    |   7   |   8   |   9   |\n",
    "    |       |       |       |\n",
    "    +-------+-------+-------+\n",
    "    +-------+-------+-------+\n",
    "    |       |       |       |\n",
    "    |   O   |   X   |   3   |\n",
    "    |       |       |       |\n",
    "    +-------+-------+-------+\n",
    "    |       |       |       |\n",
    "    |   4   |   X   |   6   |\n",
    "    |       |       |       |\n",
    "    +-------+-------+-------+\n",
    "    |       |       |       |\n",
    "    |   7   |   8   |   9   |\n",
    "    |       |       |       |\n",
    "    +-------+-------+-------+\n",
    "    Enter your move: 8\n",
    "    +-------+-------+-------+\n",
    "    |       |       |       |\n",
    "    |   O   |   X   |   3   |\n",
    "    |       |       |       |\n",
    "    +-------+-------+-------+\n",
    "    |       |       |       |\n",
    "    |   4   |   X   |   6   |\n",
    "    |       |       |       |\n",
    "    +-------+-------+-------+\n",
    "    |       |       |       |\n",
    "    |   7   |   O   |   9   |\n",
    "    |       |       |       |\n",
    "    +-------+-------+-------+\n",
    "    +-------+-------+-------+\n",
    "    |       |       |       |\n",
    "    |   O   |   X   |   3   |\n",
    "    |       |       |       |\n",
    "    +-------+-------+-------+\n",
    "    |       |       |       |\n",
    "    |   4   |   X   |   X   |\n",
    "    |       |       |       |\n",
    "    +-------+-------+-------+\n",
    "    |       |       |       |\n",
    "    |   7   |   O   |   9   |\n",
    "    |       |       |       |\n",
    "    +-------+-------+-------+\n",
    "    Enter your move: 4\n",
    "    +-------+-------+-------+\n",
    "    |       |       |       |\n",
    "    |   O   |   X   |   3   |\n",
    "    |       |       |       |\n",
    "    +-------+-------+-------+\n",
    "    |       |       |       |\n",
    "    |   O   |   X   |   X   |\n",
    "    |       |       |       |\n",
    "    +-------+-------+-------+\n",
    "    |       |       |       |\n",
    "    |   7   |   O   |   9   |\n",
    "    |       |       |       |\n",
    "    +-------+-------+-------+\n",
    "    +-------+-------+-------+\n",
    "    |       |       |       |\n",
    "    |   O   |   X   |   X   |\n",
    "    |       |       |       |\n",
    "    +-------+-------+-------+\n",
    "    |       |       |       |\n",
    "    |   O   |   X   |   X   |\n",
    "    |       |       |       |\n",
    "    +-------+-------+-------+\n",
    "    |       |       |       |\n",
    "    |   7   |   O   |   9   |\n",
    "    |       |       |       |\n",
    "    +-------+-------+-------+\n",
    "    Enter your move: 7\n",
    "    +-------+-------+-------+\n",
    "    |       |       |       |\n",
    "    |   O   |   X   |   X   |\n",
    "    |       |       |       |\n",
    "    +-------+-------+-------+\n",
    "    |       |       |       |\n",
    "    |   O   |   X   |   X   |\n",
    "    |       |       |       |\n",
    "    +-------+-------+-------+\n",
    "    |       |       |       |\n",
    "    |   O   |   O   |   9   |\n",
    "    |       |       |       |\n",
    "    +-------+-------+-------+\n",
    "    You won!"
   ]
  },
  {
   "cell_type": "markdown",
   "metadata": {},
   "source": [
    "**Requirements**\n",
    "Implement the following features:\n",
    "\n",
    "- the board should be stored as a three-element list, while each element is another three-element list (the inner lists represent rows) so that all of the squares may be accessed using the following syntax: \n",
    "\n",
    "    board[row][column]\n",
    "\n",
    "- each of the inner list's elements can contain 'O', 'X', or a digit representing the square's number (such a square is considered free)\n",
    "- the board's appearance should be exactly the same as the one presented in the example.\n",
    "- implement the functions defined for you in the editor.\n",
    "\n",
    "Drawing a random integer number can be done by utilizing a Python function called randrange(). The example program below shows how to use it (the program prints ten random numbers from 0 to 8).\n",
    "\n",
    "Note: the from-import instruction provides an access to the randrange function defined within an external Python module callled random."
   ]
  },
  {
   "cell_type": "code",
   "execution_count": null,
   "metadata": {},
   "outputs": [],
   "source": [
    "def DisplayBoard(board):\n",
    "#\n",
    "# the function accepts one parameter containing the board's current status\n",
    "# and prints it out to the console\n",
    "#\n",
    "\n",
    "def EnterMove(board):\n",
    "#\n",
    "# the function accepts the board current status, asks the user about their move, \n",
    "# checks the input and updates the board according to the user's decision\n",
    "#\n",
    "\n",
    "def MakeListOfFreeFields(board):\n",
    "#\n",
    "# the function browses the board and builds a list of all the free squares; \n",
    "# the list consists of tuples, while each tuple is a pair of row and column numbers\n",
    "#\n",
    "\n",
    "def VictoryFor(board, sign):\n",
    "#\n",
    "# the function analyzes the board status in order to check if \n",
    "# the player using 'O's or 'X's has won the game\n",
    "#\n",
    "\n",
    "def DrawMove(board):\n",
    "#\n",
    "# the function draws the computer's move and updates the board\n",
    "#"
   ]
  }
 ],
 "metadata": {
  "kernelspec": {
   "display_name": "Python 3",
   "language": "python",
   "name": "python3"
  },
  "language_info": {
   "codemirror_mode": {
    "name": "ipython",
    "version": 3
   },
   "file_extension": ".py",
   "mimetype": "text/x-python",
   "name": "python",
   "nbconvert_exporter": "python",
   "pygments_lexer": "ipython3",
   "version": "3.7.3"
  }
 },
 "nbformat": 4,
 "nbformat_minor": 2
}
