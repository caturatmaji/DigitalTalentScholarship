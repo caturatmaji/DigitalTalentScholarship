{
 "cells": [
  {
   "cell_type": "markdown",
   "metadata": {},
   "source": [
    "# Module 3 -  Boolean values, conditional execution, loops, lists and list processing\n",
    "\n",
    "### In this module, you will learn about:\n",
    "- Boolean values;\n",
    "- if-elif-else instructions;\n",
    "- the while and for loops;\n",
    "- flow control;\n",
    "- logical and bitwise operations;\n",
    "- lists and arrays.\n",
    "   \n"
   ]
  },
  {
   "cell_type": "markdown",
   "metadata": {},
   "source": [
    "## 3.1 Making Decision\n",
    "### 3.1.1 Boolean Operator\n",
    "**Symbol and Priority (updated)**\n",
    "1. +, -   : unary (positive and negative)\n",
    "2. **     : exponent\n",
    "3. *,/,%  : multiplication, division, modulo\n",
    "4. +, -   : addition, substraction\n",
    "5. <, <=, >, >= : inequality\n",
    "6. ==, !=  : equality\n",
    "\n",
    "Exponent is **right-sided binding**, the others are **left-sided binding**\n"
   ]
  },
  {
   "cell_type": "code",
   "execution_count": 1,
   "metadata": {},
   "outputs": [
    {
     "name": "stdout",
     "output_type": "stream",
     "text": [
      "True\n",
      "False\n"
     ]
    }
   ],
   "source": [
    "a = 10\n",
    "b = 20\n",
    "c = 20\n",
    "print(a<b)\n",
    "print(a < b == b > c)"
   ]
  },
  {
   "cell_type": "markdown",
   "metadata": {},
   "source": [
    "### Lab \n",
    "Using one of the comparison operators in Python, write a simple **two-line program** that \n",
    "\n",
    "- **takes the parameter n as input**, which is an integer, and \n",
    "- prints **False** if n is **less than 100**, and **True** if n is **greater than or equal to 100**.\n",
    "\n",
    "Don't create any if blocks (we're going to talk about them very soon). Test your code using the data we've provided for you."
   ]
  },
  {
   "cell_type": "code",
   "execution_count": null,
   "metadata": {},
   "outputs": [],
   "source": [
    "# your code"
   ]
  },
  {
   "cell_type": "markdown",
   "metadata": {},
   "source": [
    "### 3.1.2 Conditional Execution\n",
    "#### do it if a condition is met, and not do it if it isn't.\n",
    "\n",
    "    if true_or_not:\n",
    "        do_this_if_true"
   ]
  },
  {
   "cell_type": "code",
   "execution_count": null,
   "metadata": {},
   "outputs": [],
   "source": [
    "name = input(\"enter your name: \")\n",
    "if name == \"Python\":\n",
    "    print(\"Hello\", name)\n",
    "print(\"Have a nice day everybody!\")"
   ]
  },
  {
   "cell_type": "markdown",
   "metadata": {},
   "source": [
    "**do this if a condition is met, and do that if it isn't.**\n",
    "\n",
    "    if true_or_false_condition:\n",
    "        perform_if_condition_true\n",
    "    else:\n",
    "        perform_if_condition_false"
   ]
  },
  {
   "cell_type": "code",
   "execution_count": null,
   "metadata": {},
   "outputs": [],
   "source": [
    "name = input(\"enter your name: \")\n",
    "if name == \"Python\":\n",
    "    print(\"Hello\", name)\n",
    "else:\n",
    "    print(\"You are not from around here.\")\n",
    "print(\"Have a nice day everybody!\")"
   ]
  },
  {
   "cell_type": "markdown",
   "metadata": {},
   "source": [
    "### nested if-else\n",
    "if-else inside if-else\n",
    "\n",
    "    if theWeatherIsGood:\n",
    "        if niceRestaurantIsFound:\n",
    "            haveLunch()\n",
    "        else:\n",
    "            eatASandwich()\n",
    "    else:\n",
    "        if ticketsAreAvailable:\n",
    "            goToTheTheater()\n",
    "        else:\n",
    "            goShopping()\n",
    "\n",
    "can be simplified using **if-elif-else**\n",
    "\n",
    "    if theWeatherIsGood:\n",
    "        goForAWalk()\n",
    "    elif ticketsAreAvailable:\n",
    "        goToTheTheater()\n",
    "    elif tableIsAvailable:\n",
    "        goForLunch()\n",
    "    else:\n",
    "        playChessAtHome()"
   ]
  },
  {
   "cell_type": "markdown",
   "metadata": {},
   "source": [
    "### Lab: Largest Number"
   ]
  },
  {
   "cell_type": "code",
   "execution_count": null,
   "metadata": {},
   "outputs": [],
   "source": [
    "# read two numbers\n",
    "number1 = int(input(\"Enter the first number: \"))\n",
    "number2 = int(input(\"Enter the second number: \"))\n",
    "number3 = int(input(\"Enter the third number: \"))\n",
    "\n",
    "largerNumber=number1;\n",
    "# choose the larger number\n",
    "if number2 > largerNumber: largerNumber = number2\n",
    "if number3 > largerNumber: largerNumber = number3\n",
    "\n",
    "# print the result\n",
    "print(\"The larger number is:\", largerNumber)"
   ]
  },
  {
   "cell_type": "markdown",
   "metadata": {},
   "source": [
    "### Lab\n",
    "Imagine that your computer program loves these plants. Whenever it receives an input in the form of the word Spathiphyllum, it involuntarily shouts to the console the following string: \"Spathiphyllum is the best plant ever!\"\n",
    "\n",
    "\n",
    "Write a program that utilizes the concept of conditional execution, takes a string as input, and:\n",
    "\n",
    "- prints the sentence \"Yes - Spathiphyllum is the best plant ever!\" to the screen if the inputted string is \"Spathiphyllum\" (upper-case)\n",
    "- prints \"No, I want a big Spathiphyllum!\" if the inputted string is \"spathiphyllum\" (lower-case)\n",
    "- prints \"Spathiphyllum! Not [input]!\" otherwise. Note: [input] is the string taken as input.\n",
    "\n",
    "Test your code using the data we've provided for you. And get yourself a Spathiphyllum, too!"
   ]
  },
  {
   "cell_type": "code",
   "execution_count": null,
   "metadata": {},
   "outputs": [],
   "source": [
    "word=input(\"Masukkan teks: \")\n",
    "\n",
    "if word==\"Spathiphyllum\": print(\"Yes - Spathiphyllum is the best plant ever!\")\n",
    "elif word==\"spathiphyllum\": print(\"No, I want a big Spathiphyllum!\")\n",
    "else: print(\"Spathiphyllum! Not \", word,\"!\")"
   ]
  },
  {
   "cell_type": "markdown",
   "metadata": {},
   "source": [
    "### Lab: calculating taxes\n",
    "Once upon a time there was a land - a land of milk and honey, inhabited by happy and prosperous people. The people paid taxes, of course - their happiness had limits. The most important tax, called the Personal Income Tax (PIT for short) had to be paid once a year, and was evaluated using the following rule:\n",
    "\n",
    "- if the citizen's income was not higher than 85,528 thalers, the tax was equal to 18% of the income minus 556 thalers and 2 cents (this was the so-called tax relief)\n",
    "- if the income was higher than this amount, the tax was equal to 14,839 thalers and 2 cents, plus 32% of the surplus over 85,528 thalers.\n",
    "Your task is to write a tax calculator.\n",
    "\n",
    "- It should accept one floating-point value: the income.\n",
    "- Next, it should print the calculated tax, rounded to full thalers. There's a function named round() which will do the rounding for you - you'll find it in the skeleton code in the editor."
   ]
  },
  {
   "cell_type": "code",
   "execution_count": null,
   "metadata": {},
   "outputs": [],
   "source": [
    "income = float(input(\"Enter the annual income: \"))\n",
    "\n",
    "#\n",
    "\n",
    "#\n",
    "\n",
    "print(\"The tax is:\", tax, \"thalers\")"
   ]
  },
  {
   "cell_type": "markdown",
   "metadata": {},
   "source": [
    "### Lab: Gregorian calender"
   ]
  },
  {
   "cell_type": "code",
   "execution_count": null,
   "metadata": {},
   "outputs": [],
   "source": [
    "year = int(input(\"Enter a year: \"))\n",
    "\n",
    "if (year>=1582):\n",
    "    if(): \n",
    "        print(\"Common year\")\n",
    "    elif ():\n",
    "        print()\n",
    "    elif (): \n",
    "        print()\n",
    "    else: \n",
    "        print()\n",
    "else: print(\"Not within Gregorian Calender\")"
   ]
  },
  {
   "cell_type": "markdown",
   "metadata": {},
   "source": [
    "### 3.1.3 looping\n",
    "#### While Loop\n",
    "**if condition is true, do it**\n",
    "\n",
    "    while conditional_expression:\n",
    "        instruction\n",
    "\n",
    "Pay attention to **endless loop**"
   ]
  },
  {
   "cell_type": "code",
   "execution_count": null,
   "metadata": {},
   "outputs": [],
   "source": [
    "# we will store the current largest number here\n",
    "largestNumber = -999999999\n",
    "\n",
    "# input the first value\n",
    "number = int(input(\"Enter a number or type -1 to stop: \"))\n",
    "\n",
    "# if the number is not equal to -1, we will continue\n",
    "while number != -1:\n",
    "    # is number larger than largestNumber?\n",
    "    if number > largestNumber:\n",
    "        # yes, update largestNumber\n",
    "        largestNumber = number\n",
    "    # input the next number\n",
    "    number = int(input(\"Enter a number or type -1 to stop: \"))\n",
    "\n",
    "# print the largest number\n",
    "print(\"The largest number is:\", largestNumber)"
   ]
  },
  {
   "cell_type": "markdown",
   "metadata": {},
   "source": [
    "### Lab: Guessing number\n",
    "\n",
    "A junior magician has picked a secret number. He has hidden it in a variable named secretNumber. He wants everyone who run his program to play the Guess the secret number game, and guess what number he has picked for them. Those who don't guess the number will be stuck in an endless loop forever! Unfortunately, he does not know how to complete the code.\n",
    "\n",
    "Your task is to help the magician complete the code in the editor in such a way so that the code:\n",
    "- will ask the user to enter an integer number;\n",
    "- will use a while loop;\n",
    "- will check whether the number entered by the user is the same as the number picked by the magician. \n",
    "    - If the number chosen by the user is different than the magician's secret number, the user should see the message \"Ha ha! You're stuck in my loop!\" and be prompted to enter a number again. \n",
    "    - If the number entered by the user matches the number picked by the magician, the number should be printed to the screen, and the magician should say the following words: \"Well done, muggle! You are free now.\"\n",
    "\n",
    "The magician is counting on you! Don't disappoint him."
   ]
  },
  {
   "cell_type": "code",
   "execution_count": null,
   "metadata": {},
   "outputs": [],
   "source": [
    "secretNumber = 777\n",
    "\n",
    "print(\n",
    "\"\"\"\n",
    "+================================+\n",
    "| Welcome to my game, muggle!    |\n",
    "| Enter an integer number        |\n",
    "| and guess what number I've     |\n",
    "| picked for you.                |\n",
    "| So, what is the secret number? |\n",
    "+================================+\n",
    "\"\"\")\n",
    "\n",
    "# read input\n",
    "while ():\n",
    "    \n",
    "    # read input again\n",
    "    \n",
    "print(\"Well done, muggle! You are free now.\")"
   ]
  },
  {
   "cell_type": "markdown",
   "metadata": {},
   "source": [
    "#### For Loop\n",
    "**for a certain number, do it**\n",
    "\n",
    "    for i in range(100):\n",
    "        # do_something()\n",
    "\n",
    "Pay attention to **endless loop**"
   ]
  },
  {
   "cell_type": "code",
   "execution_count": null,
   "metadata": {},
   "outputs": [],
   "source": [
    "# Loop in range\n",
    "print(\"range(10)\")\n",
    "for i in range(10):\n",
    "    print(\"The value of i is currently\", i)\n",
    "print(\"range(2,8)\")\n",
    "for i in range(2, 8):\n",
    "    print(\"The value of i is currently\", i)\n",
    "print(\"range(2,11,3)\")\n",
    "for i in range(2, 11,3):\n",
    "    print(\"The value of i is currently\", i)"
   ]
  },
  {
   "cell_type": "markdown",
   "metadata": {},
   "source": [
    "### Lab: Mississipi\n",
    "\n",
    "Do you know what Mississippi is? Well, it's the name of one of the states and rivers in the United States. The Mississippi River is about 2,340 miles long, which makes it the second longest river in the United States (the longest being the Missouri River). It's so long that a single drop of water needs 90 days to travel its entire length!\n",
    "\n",
    "The word Mississippi is also used for a slightly different purpose: to count mississippily.\n",
    "\n",
    "If you're not familiar with the phrase, we're here to explain to you what it means: it's used to count seconds.\n",
    "\n",
    "The idea behind it is that adding the word Mississippi to a number when counting seconds aloud makes them sound closer to clock-time, and therefore \"one Mississippi, two Mississippi, three Mississippi\" will take approximately an actual three seconds of time! It's often used by children playing hide-and-seek to make sure the seeker does an honest count.\n",
    "\n",
    "Your task is very simple here: write a program that uses a for loop to \"count mississippily\" to five. Having counted to five, the program should print to the screen the final message \"Ready or not, here I come!\"\n",
    "\n",
    "Use the skeleton we've provided in the editor."
   ]
  },
  {
   "cell_type": "code",
   "execution_count": null,
   "metadata": {},
   "outputs": [],
   "source": [
    "import time\n",
    "\n",
    "# Write a for loop that counts to five.\n",
    "    # Body of the loop - print the loop iteration number and the word \"Mississippi\".\n",
    "    # Body of the loop - use: time.sleep(1)\n",
    "\n",
    "for ...:\n",
    "    print( )\n",
    "    time.sleep(1)\n",
    "\n",
    "print(\"Ready or not, here I come!\")\n",
    "\n",
    "# Write a print function with the final message."
   ]
  },
  {
   "cell_type": "markdown",
   "metadata": {},
   "source": [
    "#### break and continue\n"
   ]
  },
  {
   "cell_type": "markdown",
   "metadata": {},
   "source": [
    "The break statement is used to exit/terminate a loop.\n",
    "\n",
    "Design a program that uses a while loop and continuously asks the user to enter a word unless the user enters \"chupacabra\" as the secret exit word, in which case the message \"You've successfully left the loop.\" should be printed to the screen, and the loop should terminate.\n",
    "\n",
    "Don't print any of the words entered by the user. Use the concept of conditional execution and the break statement."
   ]
  },
  {
   "cell_type": "code",
   "execution_count": null,
   "metadata": {},
   "outputs": [],
   "source": [
    "word=input(\"Say your word: \")\n",
    "\n",
    "while ()): \n",
    "    word=input(\"Say your word: \")\n",
    "    #\n",
    "    \n",
    "print(\"You've successfully left the loop\")"
   ]
  },
  {
   "cell_type": "markdown",
   "metadata": {},
   "source": [
    "### LAB Scenario using Break\n",
    "\n",
    "The continue statement is used to skip the current block and move ahead to the next iteration, without executing the statements inside the loop.\n",
    "\n",
    "It can be used with both the while and for loops.\n",
    "\n",
    "Your task here is very special: you must design a vowel eater! Write a program that uses:\n",
    "\n",
    "    a for loop;\n",
    "    the concept of conditional execution (if-elif-else)\n",
    "    the continue statement.\n",
    "\n",
    "Your program must:\n",
    "\n",
    "    ask the user to enter a word;\n",
    "    use userWord = userWord.upper() to convert the word entered by the user to upper case; we'll talk about the so-called string methods and the upper() method very soon - don't worry;\n",
    "    use conditional execution and the continue statement to \"eat\" the following vowels A, E, I, O, U from the inputted word;\n",
    "    print the uneaten letters to the screen, each one of them on a separate line.\n",
    "\n",
    "Test your program with the data we've provided for you."
   ]
  },
  {
   "cell_type": "code",
   "execution_count": null,
   "metadata": {},
   "outputs": [],
   "source": [
    "# Prompt the user to enter a word\n",
    "# and assign it to the userWord variable.\n",
    "userWord=input(\"Write your word: \")\n",
    "userWord=userWord.upper()\n",
    "\n",
    "for letter in userWord:\n",
    "    # Complete the body of the for loop.\n",
    "    # complete using continue\n"
   ]
  },
  {
   "cell_type": "code",
   "execution_count": null,
   "metadata": {},
   "outputs": [],
   "source": [
    "wordWithoutVovels = \"\"\n",
    "\n",
    "userWord=input(\"Write your word: \")\n",
    "userWord=userWord.upper()\n",
    "\n",
    "for letter in userWord:\n",
    "    # Complete the body of the for loop.\n",
    "    if:\n",
    "    elif:\n",
    "    else: wordWithoutVovels+=letter\n",
    "\n",
    "print(wordWithoutVovels)"
   ]
  },
  {
   "cell_type": "markdown",
   "metadata": {},
   "source": [
    "## 3.2 Logic Operation in Python\n",
    "### Computer Logic\n",
    "#### and, or, not\n",
    "Operation for boolean logic\n",
    "\n",
    "Truth table for **and**\n",
    "<img src=\"img/ttand.jpg\">\n",
    "\n",
    "Truth table for **or**\n",
    "<img src=\"img/ttor.jpg\">\n",
    "\n",
    "Truth table for **not**\n",
    "<img src=\"img/ttnot.jpg\">\n"
   ]
  },
  {
   "cell_type": "code",
   "execution_count": null,
   "metadata": {},
   "outputs": [],
   "source": [
    "x = 1\n",
    "y = 0\n",
    "\n",
    "z = ((x == y) and (x == y)) or not(x == y)\n",
    "print(not(z))"
   ]
  },
  {
   "cell_type": "code",
   "execution_count": null,
   "metadata": {},
   "outputs": [],
   "source": [
    "print(var > 0)\n",
    "print(not (var <= 0))\n",
    "p = True\n",
    "q = False\n",
    "print(not (p and q) == (not p) or (not q))\n",
    "print(not (p or q) == (not p) and (not q))"
   ]
  },
  {
   "cell_type": "markdown",
   "metadata": {},
   "source": [
    "### Bitwise operation\n",
    "#### &, |, ^, ~\n",
    "Operation on bit level of binary number\n",
    "\n",
    "    & --> AND\n",
    "    | --> OR\n",
    "    ^ --> XOR\n",
    "    ~ --> NOT\n",
    "<img src=\"img/ttbitwise.jpg\">\n",
    "\n",
    "### Binary Shift\n",
    "#### >> and <<\n",
    "\n",
    "    >> shift binary to the right: / 2^n\n",
    "    << shift binary to the left : * 2^n"
   ]
  },
  {
   "cell_type": "code",
   "execution_count": null,
   "metadata": {},
   "outputs": [],
   "source": [
    "x = 8  # x = 0b001000\n",
    "y = 2  # y = 0b000010\n",
    "\n",
    "a = x & y  # 001000 & 000010\n",
    "b = x | y  # 001000 & 000010\n",
    "c = ~x     # ~001000\n",
    "d = x ^ 10  # 001000 ^ 001010\n",
    "e = x >> 2 # 001000 >> 2\n",
    "f = x << 2 # 001000 << 2\n",
    "\n",
    "print(a, b, c, d, e, f)"
   ]
  },
  {
   "cell_type": "code",
   "execution_count": null,
   "metadata": {},
   "outputs": [],
   "source": [
    "var = 17\n",
    "varRight = var >> 1\n",
    "varLeft = var << 2\n",
    "print(var, varLeft, varRight)"
   ]
  },
  {
   "cell_type": "markdown",
   "metadata": {},
   "source": [
    "#### Converting decimal to binary (32bit)\n",
    "\n",
    "    x = 5  =>   101 = 00000000 00000000 00000000 00000101\n",
    "    y = 18 => 10010 = 00000000 00000000 00000000 00010010\n",
    "    ~x = 11111111 11111111 11111111 11111010 => -6\n",
    "    ~y = 11111111 11111111 11111111 11101101 => -19"
   ]
  }
 ],
 "metadata": {
  "kernelspec": {
   "display_name": "Python 3",
   "language": "python",
   "name": "python3"
  },
  "language_info": {
   "codemirror_mode": {
    "name": "ipython",
    "version": 3
   },
   "file_extension": ".py",
   "mimetype": "text/x-python",
   "name": "python",
   "nbconvert_exporter": "python",
   "pygments_lexer": "ipython3",
   "version": "3.7.3"
  }
 },
 "nbformat": 4,
 "nbformat_minor": 2
}
