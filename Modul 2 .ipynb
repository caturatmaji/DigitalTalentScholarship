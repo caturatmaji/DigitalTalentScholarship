{
 "cells": [
  {
   "cell_type": "markdown",
   "metadata": {},
   "source": [
    "# Module 2 -  Data types, variables, basic input-output operations, basic operators\n",
    "\n",
    "### In this module, you will learn about:\n",
    "- data types and the basic methods of formatting, converting, inputting and outputting data;\n",
    "- operators;\n",
    "- variables.\n",
    "   \n"
   ]
  },
  {
   "cell_type": "markdown",
   "metadata": {},
   "source": [
    "## 2.1 First Program\n",
    "\n",
    "    1. function print()\n",
    "    2. the arguments\n",
    "    3. Escape Character\n",
    "    4. sep and end parameters\n",
    "\n"
   ]
  },
  {
   "cell_type": "markdown",
   "metadata": {},
   "source": [
    "### 2.1.1 Fungsi Print"
   ]
  },
  {
   "cell_type": "code",
   "execution_count": 1,
   "metadata": {},
   "outputs": [
    {
     "name": "stdout",
     "output_type": "stream",
     "text": [
      "Hello, World!\n"
     ]
    }
   ],
   "source": [
    "print(\"Hello, World!\")"
   ]
  },
  {
   "cell_type": "markdown",
   "metadata": {},
   "source": [
    "### LAB 1\n",
    "        \n",
    "    1. Print \"Hello, Python!\"\n",
    "    2. print your first name\n",
    "    3. print your first name using quote\n",
    "    4. difference between double quote \"\" dan single quote ' ?\n"
   ]
  },
  {
   "cell_type": "code",
   "execution_count": null,
   "metadata": {},
   "outputs": [],
   "source": [
    "# try your code"
   ]
  },
  {
   "cell_type": "markdown",
   "metadata": {},
   "source": [
    "### 2.1.2 arguments of function\n",
    "\n",
    "print(\"Hello!\") -- argument: \"Hello!\" \n",
    "\n",
    "In general:\n",
    "\n",
    "    function_name(argument)\n",
    "\n",
    "Two kinds of argument:\n",
    "1. Positional argumen\n",
    "2. Non positional argumen"
   ]
  },
  {
   "cell_type": "code",
   "execution_count": null,
   "metadata": {},
   "outputs": [],
   "source": [
    "# string mark\n",
    "print('Hello, Python!')\n",
    "print(\"Hello, Python!\")\n",
    "print(\"\"\"Hello, Python\"\"\")"
   ]
  },
  {
   "cell_type": "markdown",
   "metadata": {},
   "source": [
    "### 2.1.3 Formatting with Special Character\n",
    "\n",
    "    \\n = new line\n",
    "\n",
    "    \\ = escaping karakter\n",
    "\n",
    "    print() = empty line\n",
    "\n",
    "different line for different command\n",
    "\n",
    "    print(\"first\") print(\"second\")\n",
    "\n"
   ]
  },
  {
   "cell_type": "code",
   "execution_count": null,
   "metadata": {},
   "outputs": [],
   "source": [
    "print(\"The itsy bitsy spider\\nclimbed up the waterspout.\")\n",
    "print()\n",
    "print(\"Down came the rain\\nand washed the spider out.\")"
   ]
  },
  {
   "cell_type": "code",
   "execution_count": null,
   "metadata": {},
   "outputs": [],
   "source": [
    "print(\"\\\")"
   ]
  },
  {
   "cell_type": "code",
   "execution_count": null,
   "metadata": {},
   "outputs": [],
   "source": [
    "print(\"\\\\\")"
   ]
  },
  {
   "cell_type": "markdown",
   "metadata": {},
   "source": [
    "### The print() function - using multiple arguments\n"
   ]
  },
  {
   "cell_type": "code",
   "execution_count": null,
   "metadata": {},
   "outputs": [],
   "source": [
    "# multiple arguments\n",
    "print(\"The itsy bitsy spider\" , \"climbed up\" , \"the waterspout.\")"
   ]
  },
  {
   "cell_type": "code",
   "execution_count": null,
   "metadata": {},
   "outputs": [],
   "source": [
    "print(\"My name is\", \"Python.\")\n",
    "print(\"Monty Python.\")"
   ]
  },
  {
   "cell_type": "markdown",
   "metadata": {},
   "source": [
    "### 2.1.4 Keyword arguments: **sep** and **end**\n",
    "\n",
    "**Keyword arguments at the last position**\n",
    "    \n",
    "    end = \" \" --> end of the last positional argument\n",
    "\n",
    "    sep = \" \" separator between arguments"
   ]
  },
  {
   "cell_type": "markdown",
   "metadata": {},
   "source": [
    "#### end Argument"
   ]
  },
  {
   "cell_type": "code",
   "execution_count": null,
   "metadata": {},
   "outputs": [],
   "source": [
    "# end argument\n",
    "print(\"My name is\", \"Python.\", end=\" \")\n",
    "print(\"Monty Python.\")"
   ]
  },
  {
   "cell_type": "code",
   "execution_count": null,
   "metadata": {},
   "outputs": [],
   "source": [
    "# end argument\n",
    "print(\"My name is \", end = \"\")\n",
    "print(\"Monty Python.\")"
   ]
  },
  {
   "cell_type": "markdown",
   "metadata": {},
   "source": [
    "#### sep Argument"
   ]
  },
  {
   "cell_type": "code",
   "execution_count": null,
   "metadata": {},
   "outputs": [],
   "source": [
    "print(\"My\", \"name\", \"is\", \"Monty\", \"Python.\", sep=\"-\")"
   ]
  },
  {
   "cell_type": "code",
   "execution_count": null,
   "metadata": {},
   "outputs": [],
   "source": [
    "print(\"My\", \"name\", \"is\", sep=\"_\", end=\"*\")\n",
    "print(\"Monty\", \"Python.\", sep=\"*\", end=\"*\\n\")\n",
    "print(\"Digital\", \"Talent\", \"Dahsyat\", sep=\"_\", end=\"*\")\n",
    "print(\"Catur\", \"Atmaji.\", sep=\"*\", end=\"*\\n\")"
   ]
  },
  {
   "cell_type": "markdown",
   "metadata": {},
   "source": [
    "### Lab\n",
    "\n",
    "Modify the first line of code in the editor, using the sep and end keywords, to match the expected output. Use the two print() functions in the editor.\n",
    "\n",
    "Don't change anything in the second print() invocation.\n",
    "\n",
    "**Expected output:**\n",
    "\n",
    "    Programming****Essentials****in...Python\n"
   ]
  },
  {
   "cell_type": "markdown",
   "metadata": {},
   "source": [
    "### Lab \n",
    "Modify following code\n",
    "\n",
    "    print(\"    *\")\n",
    "    print(\"   * *\")\n",
    "    print(\"  *   *\")\n",
    "    print(\" *     *\")\n",
    "    print(\"***   ***\")\n",
    "    print(\"  *   *\")\n",
    "    print(\"  *   *\")\n",
    "    print(\"  *****\")\n",
    "\n",
    "**Expected Output:**\n",
    "\n",
    "    Twice larger"
   ]
  },
  {
   "cell_type": "code",
   "execution_count": null,
   "metadata": {},
   "outputs": [],
   "source": []
  },
  {
   "cell_type": "markdown",
   "metadata": {},
   "source": [
    "## 2.2 Data Types\n",
    "\n",
    "### 2.2.1 Literals\n",
    "**The data itself**"
   ]
  },
  {
   "cell_type": "code",
   "execution_count": null,
   "metadata": {},
   "outputs": [],
   "source": [
    "# Literals\n",
    "print(123)   # literal 123\n",
    "print(\"123\") # string 123 - not literal"
   ]
  },
  {
   "cell_type": "markdown",
   "metadata": {},
   "source": [
    "### 2.2.2 Numbers\n",
    "\n",
    "Computer stores numbers in **Binary System**\n",
    "1. Integer\n",
    "    - Binary -- base 2\n",
    "    - Decimal -- base 10\n",
    "    - Octal -- base 8\n",
    "    - Hexadecimal -- base 16\n",
    "2. Floating Point"
   ]
  },
  {
   "cell_type": "code",
   "execution_count": null,
   "metadata": {},
   "outputs": [],
   "source": [
    "# integer\n",
    "print(18)   # decimal\n",
    "print(0o22) # octal\n",
    "print(0x12) # hexadecimal\n",
    "print(18.0) # float"
   ]
  },
  {
   "cell_type": "code",
   "execution_count": null,
   "metadata": {},
   "outputs": [],
   "source": [
    "# float\n",
    "print(0.6)\n",
    "print(.6)\n",
    "\n",
    "print(300000.0)\n",
    "print(6.62E-34) # = 6.62 x 10^(-34)\n"
   ]
  },
  {
   "cell_type": "markdown",
   "metadata": {},
   "source": [
    "### 2.2.3 String\n",
    "\n",
    "Using backslash ( **\\\\** ), try to make these output\n",
    "    \n",
    "    \"I'm\"\n",
    "    \"\"learning\"\"\n",
    "    \"\"\"Python\"\"\""
   ]
  },
  {
   "cell_type": "code",
   "execution_count": null,
   "metadata": {},
   "outputs": [],
   "source": [
    "print( )\n",
    "print( )\n",
    "print( )"
   ]
  },
  {
   "cell_type": "markdown",
   "metadata": {},
   "source": [
    "### 2.2.4 Boolean\n",
    "    True\n",
    "    False"
   ]
  },
  {
   "cell_type": "markdown",
   "metadata": {},
   "source": [
    "## 2.3 Operators\n",
    "\n",
    "### 2.3.1 Basic Arithmatic Operator\n",
    "**Symbol and Priority**\n",
    "1. +, -   : unary (positive and negative)\n",
    "2. **     : exponent\n",
    "3. *,/,%  : multiplication, division, modulo\n",
    "4. +, -   : addition, substraction\n",
    "\n",
    "Exponent is **right-sided binding**, the others are **left-sided binding**\n"
   ]
  },
  {
   "cell_type": "code",
   "execution_count": null,
   "metadata": {},
   "outputs": [],
   "source": [
    "# what are the results?\n",
    "print(5 * 25 % 13 + 100 / 2 * 13 // 2)\n",
    "print((5 * ((25 % 13) + 100) / (2 * 13)) // 2)"
   ]
  },
  {
   "cell_type": "markdown",
   "metadata": {},
   "source": [
    "## 2.4 Variables\n",
    "<img src=\"https://edube.org/uploads/media/default/0001/01/2aad51ace252457ea829b30c120ef32222b07443.png\">\n",
    "\n",
    "### 2.4.1 naming variable\n",
    "- the name of the variable must be composed of **upper-case or lower-case letters, digits, and the character _ (underscore)**\n",
    "- the name of the variable must **begin with a letter**;\n",
    "- the **underscore** character is **a letter**;\n",
    "- **case-sensitive**;\n",
    "- the name of the variable **must not** be any of Python's **reserved words**.\n",
    "\n"
   ]
  },
  {
   "cell_type": "code",
   "execution_count": null,
   "metadata": {},
   "outputs": [],
   "source": [
    "# printing variable's values\n",
    "var = 1\n",
    "account_balance = 1000.0\n",
    "clientName = 'John Doe'\n",
    "print(var, account_balance, clientName)\n",
    "print(var)"
   ]
  },
  {
   "cell_type": "code",
   "execution_count": null,
   "metadata": {},
   "outputs": [],
   "source": [
    "# calculationg hypotenuse\n",
    "a = 3.0\n",
    "b = 4.0\n",
    "c = (a ** 2 + b ** 2) ** 0.5\n",
    "print(\"c =\", c)"
   ]
  },
  {
   "cell_type": "markdown",
   "metadata": {},
   "source": [
    "### Lab\n",
    "Here is a short story:\n",
    "\n",
    "Once upon a time in Appleland, John had three apples, Mary had five apples, and Adam had six apples. They were all very happy and lived for a long time. End of story.\n",
    "\n",
    "Your task is to:\n",
    "\n",
    "- create the variables: john, mary, and adam;\n",
    "- assign values to the variables. The values must be equal to the numbers of fruit possessed by John, Mary, and Adam respectively;\n",
    "- having stored the numbers in the variables, print the variables on one line, and separate each of them with a comma;\n",
    "- now create a new variable named totalApples equal to addition of the three former variables.\n",
    "- print the value stored in totalApples to the console;\n",
    "- experiment with your code: create new variables, assign different values to them, and perform various arithmetic operations on them (e.g., +, -, *, /, //, etc.). Try to print a string and an integer together on one line, e.g., \"Total number of apples:\" and totalApples."
   ]
  },
  {
   "cell_type": "markdown",
   "metadata": {},
   "source": [
    "## 2.6 Talking to Computer\n",
    "### 2.6.1 **input()** function\n",
    "\n",
    "**Reading string from basic input: keyboard**\n",
    "\n",
    "### 2.6.2 Type casting\n",
    "\n",
    "**Casting string type to another or vice versa**\n",
    "\n",
    "    int(string)   -- convert string to int\n",
    "    float(string) -- convert string to float\n",
    "    \n",
    "    str(number)   -- convert number to string"
   ]
  },
  {
   "cell_type": "code",
   "execution_count": null,
   "metadata": {},
   "outputs": [],
   "source": [
    "# reading basic input: keyboard\n",
    "name = input(\"Tell me your name: \")\n",
    "print(\"Your name is\", name)"
   ]
  },
  {
   "cell_type": "code",
   "execution_count": null,
   "metadata": {},
   "outputs": [],
   "source": [
    "# type casting\n",
    "# calculating hypotenuse\n",
    "a = int(input(\"a : \"))\n",
    "b = int(input(\"b : \"))\n",
    "c = \n",
    "print(\"length c is,\"c)\n",
    "a = float(input(\"a : \"))\n",
    "b = float(input(\"b : \"))\n",
    "c = \n",
    "print(\"length c is,\"c)"
   ]
  },
  {
   "cell_type": "code",
   "execution_count": null,
   "metadata": {},
   "outputs": [],
   "source": [
    "# string convertion\n",
    "a = float(input(\"a : \"))\n",
    "b = float(input(\"b : \"))\n",
    "c = a+b\n",
    "d = str(a) + str(b)\n",
    "print(\"c =,\",c)\n",
    "print(\"d =,\",d)"
   ]
  },
  {
   "cell_type": "markdown",
   "metadata": {},
   "source": [
    "## Lab\n",
    "\n",
    "Your task is to prepare a simple code able to evaluate the end time of a period of time, given as a number of minutes (it could be arbitrarily large). The start time is given as a pair of hours (0..23) and minutes (0..59). The result has to be printed to the console.\n",
    "\n",
    "For example, if an event starts at 12:17 and lasts 59 minutes, it will end at 13:16.\n",
    "\n",
    "Don't worry about any imperfections in your code - it's okay if it accepts an invalid time - the most important thing is that the code produce valid results for valid input data.\n",
    "\n",
    "Test your code carefully. Hint: using the % operator may be the key to success.\n",
    "\n",
    "===\n",
    "\n",
    "Tugas anda adalah mempersiapkan kode sederhana untuk menentukan waktu akhir/selesai sebuah kegiatan. Diberikan variabel durasi waktu dalam menit dan waktu mulai dalam jam (0..23)dan menit (0..59). hasilnya harus dicetak dalam console\n",
    "\n",
    "sebagai contoh, jika suatu kegiatan dimulai pukul 12:17 dan berlangsung selama 59 minutes , maka kegiatan tersebut tersebut akan selesai pukul 13:16\n",
    "\n",
    "jangan takut kalau kodemu belum sempurna, tidak masalah waktunya terlihat tidak valid, yang terpenting kodenya dapat menghasilkan nilai yang valid berdasarkan data input.\n",
    "\n",
    "Kode Dasar:\n",
    "\n",
    "jam = int(input(\"waktu mulai (jam): \"))\n",
    "menit = int(input(\"waktu mulai (menit): \"))\n",
    "durasi= int(input(\"durasi kegiatan (minutes): \"))\n",
    "\n",
    "#### Letakkan kodemu disini\n",
    "\n",
    "Uji Kodemu, Petunjuk ! gunakan operator % sebagai kunci suksesmu\n",
    "\n"
   ]
  },
  {
   "cell_type": "code",
   "execution_count": null,
   "metadata": {},
   "outputs": [],
   "source": [
    "hour = int(input(\"Starting time (hours): \"))\n",
    "mins = int(input(\"Starting time (minutes): \"))\n",
    "dura = int(input(\"Event duration (minutes): \"))\n",
    "\n",
    "# your code\n",
    "\n",
    "print(\"end_time= \", str(hour%24),\":\",str(mins))"
   ]
  }
 ],
 "metadata": {
  "kernelspec": {
   "display_name": "Python 3",
   "language": "python",
   "name": "python3"
  },
  "language_info": {
   "codemirror_mode": {
    "name": "ipython",
    "version": 3
   },
   "file_extension": ".py",
   "mimetype": "text/x-python",
   "name": "python",
   "nbconvert_exporter": "python",
   "pygments_lexer": "ipython3",
   "version": "3.7.3"
  }
 },
 "nbformat": 4,
 "nbformat_minor": 2
}
