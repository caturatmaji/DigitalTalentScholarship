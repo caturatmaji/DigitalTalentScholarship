{
 "cells": [
  {
   "cell_type": "markdown",
   "metadata": {},
   "source": [
    "# Module 6 -  The Object-Oriented Approach: classes, methods, objects and the standard objective features: exception handling, and working with files\n",
    "\n",
    "### In this module, you will learn about:\n",
    "- the object-oriented approach - foundations;\n",
    "- classes, methods, objects, and the standard objective features;\n",
    "- exception handling;\n",
    "- working with files.\n",
    "\n"
   ]
  },
  {
   "cell_type": "markdown",
   "metadata": {},
   "source": [
    "## 6.1 Preview\n",
    "### Procedural vs object-oriented approach\n",
    "\n",
    "**Procedural** \n",
    "    \n",
    "    data\n",
    "    code\n",
    "   \n",
    "**Object-oriented**\n",
    "\n",
    "    object of classes\n",
    "    object --> data, code"
   ]
  },
  {
   "cell_type": "code",
   "execution_count": 3,
   "metadata": {},
   "outputs": [
    {
     "name": "stdout",
     "output_type": "stream",
     "text": [
      "{'nama': 'catur', 'usia': 17}\n",
      "{'nama': 'fuad', 'usia': 21}\n"
     ]
    }
   ],
   "source": [
    "orang1 = {'nama':'catur','usia':17}\n",
    "orang2 = {'nama':'fuad','usia':21}\n",
    "print(orang1)\n",
    "print(orang2)"
   ]
  },
  {
   "cell_type": "markdown",
   "metadata": {},
   "source": [
    "### Class of objects\n",
    "<img src=\"https://edube.org/uploads/media/default/0001/01/2746184e3dea52e1a39df3b1ae510e9dd99e34bc.png\">\n",
    "**Class hierarchies**\n",
    "<img src=\"https://edube.org/uploads/media/default/0001/01/09e4ad95eae46acc8e0f6427751452cbd255b004.png\">\n",
    "\n",
    "### Inheritance?\n",
    "Any object bound to a specific level of a class hierarchy inherits all the traits (as well as the requirements and qualities) defined inside any of the superclasses.\n",
    "<img src=\"https://edube.org/uploads/media/default/0001/01/a099081349764cfda3d91329ee4a3345643802d4.png\">\n",
    "### Object\n",
    "<img src=\"https://edube.org/uploads/media/default/0001/01/be95ffa57008024fff0e6cd735afa5687c806902.png\">"
   ]
  },
  {
   "cell_type": "markdown",
   "metadata": {},
   "source": [
    "## 6.2 Programming object\n",
    "### 6.2.1 Creating class\n",
    "\n",
    "#### Procedural for Stack"
   ]
  },
  {
   "cell_type": "code",
   "execution_count": null,
   "metadata": {},
   "outputs": [],
   "source": [
    "stack = []\n",
    "\n",
    "def push(val):\n",
    "    stack.append(val)\n",
    "\n",
    "\n",
    "def pop():\n",
    "    val = stack[-1]\n",
    "    del stack[-1]\n",
    "    return val\n",
    "\n",
    "push(3)\n",
    "push(2)\n",
    "push(1)\n",
    "\n",
    "print(pop())\n",
    "print(pop())\n",
    "print(pop())"
   ]
  },
  {
   "cell_type": "markdown",
   "metadata": {},
   "source": [
    "#### The stack - the object approach"
   ]
  },
  {
   "cell_type": "code",
   "execution_count": 5,
   "metadata": {},
   "outputs": [
    {
     "name": "stdout",
     "output_type": "stream",
     "text": [
      "Selamat anda membuat objek di kelas 'Orang'\n",
      "Selamat anda membuat objek di kelas 'Orang'\n"
     ]
    }
   ],
   "source": [
    "class Orang:\n",
    "    def __init__(self):  # fungsi konstruktor\n",
    "        print(\"Selamat anda membuat objek di kelas 'Orang'\")\n",
    "\n",
    "catur = Orang()  # buat objek di kelas Orang\n",
    "anisa = Orang()"
   ]
  },
  {
   "cell_type": "code",
   "execution_count": 6,
   "metadata": {},
   "outputs": [
    {
     "name": "stdout",
     "output_type": "stream",
     "text": [
      "Selamat anda membuat objek di kelas 'Orang'\n",
      "nama: nama default \tusia: 20\n"
     ]
    }
   ],
   "source": [
    "class Orang:\n",
    "    def __init__(self):  # fungsi konstruktor\n",
    "        self.nama = \"nama default\"\n",
    "        self.usia = 20\n",
    "        print(\"Selamat anda membuat objek di kelas 'Orang'\")\n",
    "\n",
    "catur = Orang()\n",
    "print(\"nama:\",catur.nama,\"\\tusia:\",catur.usia)"
   ]
  },
  {
   "cell_type": "code",
   "execution_count": 10,
   "metadata": {},
   "outputs": [
    {
     "name": "stdout",
     "output_type": "stream",
     "text": [
      "nama: Catur Atmaji \tusia: 17\n",
      "nama: anonim \tusia: 30\n"
     ]
    }
   ],
   "source": [
    "class Orang:\n",
    "    def __init__(self,nm = 'anonim',usia = 30):  # fungsi konstruktor\n",
    "        self.nama = nm\n",
    "        self.usia = usia\n",
    "        #print(\"Selamat anda membuat objek di kelas 'Orang'\")\n",
    "        self.__alamat = \"Rahasia\"\n",
    "\n",
    "catur = Orang('catur',17)\n",
    "catur.nama = 'Catur Atmaji'\n",
    "noname = Orang()\n",
    "print(\"nama:\",catur.nama,\"\\tusia:\",catur.usia)\n",
    "print(\"nama:\",noname.nama,\"\\tusia:\",noname.usia)"
   ]
  },
  {
   "cell_type": "code",
   "execution_count": 18,
   "metadata": {},
   "outputs": [
    {
     "name": "stdout",
     "output_type": "stream",
     "text": [
      "nama: catur \tusia: 17\n",
      "FMIPA UGM\n",
      "Jenis kelamin anonim : Laki-laki\n"
     ]
    }
   ],
   "source": [
    "class Orang:\n",
    "    def __init__(self,nm = 'anonim',usia = 30):  # fungsi konstruktor\n",
    "        self.nama = nm\n",
    "        self.usia = usia\n",
    "        self.__alamat = \"Rahasia\"\n",
    "    \n",
    "    def getAlamat(self):\n",
    "        #print(\"Alamatnya:\",self.__alamat)\n",
    "        return self.__alamat\n",
    "    \n",
    "    def setAlamat(self,alamatBaru):\n",
    "        self.__alamat = alamatBaru\n",
    "    \n",
    "    def getGender(self):\n",
    "        print(\"Jenis kelamin\",self.nama,':',self.__gender)\n",
    "    \n",
    "    def setGender(self,genderBaru):\n",
    "        self.__gender = genderBaru\n",
    "\n",
    "catur = Orang('catur',17)\n",
    "noname = Orang()\n",
    "noname.setGender('Laki-laki')\n",
    "print(\"nama:\",catur.nama,\"\\tusia:\",catur.usia)\n",
    "catur.setAlamat(\"FMIPA UGM\")\n",
    "catur.getAlamat()\n",
    "alam = catur.getAlamat()\n",
    "print(alam)\n",
    "noname.getGender()"
   ]
  },
  {
   "cell_type": "code",
   "execution_count": 25,
   "metadata": {},
   "outputs": [
    {
     "name": "stdout",
     "output_type": "stream",
     "text": [
      "Catur Atmaji\n",
      "Jogja\n"
     ]
    }
   ],
   "source": [
    "class Orang:\n",
    "    def __init__(self,nm = 'anonim',usia = 30):  # fungsi konstruktor\n",
    "        self.nama = nm\n",
    "        self.usia = usia\n",
    "        self.__alamat = \"Rahasia\"\n",
    "    \n",
    "    def getAlamat(self):\n",
    "        return self.__alamat\n",
    "    \n",
    "    def setAlamat(self,alamatBaru):\n",
    "        self.__alamat = alamatBaru\n",
    "    \n",
    "    def getGender(self):\n",
    "        print(\"Jenis kelamin\",self.nama,':',self.__gender)\n",
    "    \n",
    "    def setGender(self,genderBaru):\n",
    "        self.__gender = genderBaru\n",
    "\n",
    "catur = Orang('Atmaji', 17) # buat objek \n",
    "catur.nama = \"Catur Atmaji\" # ubah atribut nama\n",
    "print(catur.nama)\n",
    "catur.setAlamat(\"Jogja\")    # fungsi ubah atribut alamat\n",
    "print(catur.getAlamat())\n"
   ]
  },
  {
   "cell_type": "code",
   "execution_count": 31,
   "metadata": {},
   "outputs": [
    {
     "name": "stdout",
     "output_type": "stream",
     "text": [
      "Alamat berubah sebanyak 1 kali\n",
      "Jenis kelamin Catur : Laki-laki\n"
     ]
    }
   ],
   "source": [
    "# Class Varible\n",
    "class Orang:\n",
    "    perubahan = 0\n",
    "    def __init__(self,nm = 'anonim',usia = 30):  # fungsi konstruktor\n",
    "        self.nama = nm\n",
    "        self.usia = usia\n",
    "        self.__alamat = \"Rahasia\"\n",
    "    \n",
    "    def getAlamat(self):\n",
    "        return self.__alamat\n",
    "    \n",
    "    def setAlamat(self,alamatBaru):\n",
    "        self.__alamat = alamatBaru\n",
    "        self.perubahan += 1\n",
    "        print(\"Alamat berubah sebanyak\",self.perubahan,\"kali\")\n",
    "    \n",
    "    def setGender(self,genderBaru):\n",
    "        self.__gender = genderBaru\n",
    "    \n",
    "    def getGender(self):\n",
    "        try:\n",
    "            print(\"Jenis kelamin\",self.nama,':',self.__gender)\n",
    "        except:\n",
    "            self.setGender(\"Laki-laki\")\n",
    "            self.getGender()\n",
    "    \n",
    "catur = Orang('Catur', 17)\n",
    "catur.setAlamat(\"Jogja\")\n",
    "catur.getGender()"
   ]
  },
  {
   "cell_type": "code",
   "execution_count": 50,
   "metadata": {},
   "outputs": [
    {
     "name": "stdout",
     "output_type": "stream",
     "text": [
      "Masukkan nama mata pelajaran: TIK\n",
      "Guru mata pelajaran TIK\n",
      "Nilai UTS: 90\n",
      "Nilai UAS: 95\n",
      "=== Cetak Nilai ===\n",
      "Nilai UTS : 90\n",
      "Nilai UAS : 95\n"
     ]
    }
   ],
   "source": [
    "# Class Varible\n",
    "class Orang:\n",
    "    perubahan = 0\n",
    "    def __init__(self,nm = 'anonim',usia = 30):  # fungsi konstruktor\n",
    "        self.nama = nm\n",
    "        self.usia = usia\n",
    "        self.alamat = \"Rahasia\"\n",
    "    \n",
    "    def getAlamat(self):\n",
    "        print(\"Alamatnya:\",self.alamat)\n",
    "    \n",
    "    def setAlamat(self,alamatBaru):\n",
    "        self.alamat = alamatBaru\n",
    "        self.perubahan += 1\n",
    "        print(\"Alamat berubah sebanyak\",self.perubahan,\"kali\")\n",
    "\n",
    "class Siswa(Orang):\n",
    "    kelas = 10\n",
    "    def __init__(self,nm,usia,nis):\n",
    "        Orang.__init__(self,nm,usia)\n",
    "        self.nis = nis\n",
    "            \n",
    "    def setNilai(self):\n",
    "        UTS = int(input(\"Nilai UTS: \"))\n",
    "        UAS = int(input(\"Nilai UAS: \"))\n",
    "        self.__UTS = UTS\n",
    "        self.__UAS = UAS\n",
    "    \n",
    "    def getNilai(self):\n",
    "        print(\"=== Cetak Nilai ===\")\n",
    "        print(\"Nilai UTS :\",self.__UTS)\n",
    "        print(\"Nilai UAS :\",self.__UAS)\n",
    "\n",
    "class Guru(Orang):\n",
    "    def __init__(self,nm,usia,nuptk):\n",
    "        Orang.__init__(self,nm,usia)\n",
    "        self.nuptk = nuptk\n",
    "    \n",
    "    def setMapel(self,mapel):\n",
    "        self.__mapel = mapel\n",
    "        \n",
    "    def getMapel(self):\n",
    "        print(\"Guru mata pelajaran\",self.__mapel)\n",
    "\n",
    "widya = Siswa('Mbak Widya',15,\"00123\")\n",
    "faizal = Siswa('Mas Faizal',16,\"00107\")\n",
    "teguh = Guru('Pak Teguh',35,\"12129\")\n",
    "mpl = input(\"Masukkan nama mata pelajaran: \")\n",
    "teguh.setMapel(mpl)\n",
    "teguh.getMapel()\n",
    "widya.setNilai()\n",
    "widya.getNilai()"
   ]
  },
  {
   "cell_type": "code",
   "execution_count": null,
   "metadata": {},
   "outputs": [],
   "source": [
    "# Class Varible\n",
    "class Orang:\n",
    "    perubahan = 0\n",
    "    def __init__(self,nm = 'anonim',usia = 30):  # fungsi konstruktor\n",
    "        self.nama = nm\n",
    "        self.usia = usia\n",
    "        self.alamat = \"Rahasia\"\n",
    "    \n",
    "    def getAlamat(self):\n",
    "        print(\"Alamatnya:\",self.alamat)\n",
    "    \n",
    "    def setAlamat(self,alamatBaru):\n",
    "        self.alamat = alamatBaru\n",
    "        self.perubahan += 1\n",
    "        print(\"Alamat berubah sebanyak\",self.perubahan,\"kali\")\n",
    "\n",
    "class Siswa(Orang):\n",
    "    kelas = 10\n",
    "    def __init__(self,nm,usia,nis):\n",
    "        Orang.__init__(self,nm,usia)\n",
    "        self.nis = nis\n",
    "            \n",
    "    def setNilai(self):\n",
    "        UTS = int(input(\"Nilai UTS: \"))\n",
    "        UAS = int(input(\"Nilai UAS: \"))\n",
    "        self.__UTS = UTS\n",
    "        self.__UAS = UAS\n",
    "    \n",
    "    def getNilai(self):\n",
    "        print(\"=== Cetak Nilai ===\")\n",
    "        print(\"Nilai UTS :\",self.__UTS)\n",
    "        print(\"Nilai UAS :\",self.__UAS)\n",
    "\n",
    "class Guru(Orang):\n",
    "    def __init__(self,nm,usia,nuptk):\n",
    "        Orang.__init__(self,nm,usia)\n",
    "        self.nuptk = nuptk\n",
    "    \n",
    "    def setMapel(self,mapel):\n",
    "        self.__mapel = mapel\n",
    "        \n",
    "    def getMapel(self):\n",
    "        print(\"Guru mata pelajaran\",self.__mapel)\n",
    "\t\n",
    "\tdef cetakIdentitas(self):\n",
    "\t\tprint(\"Nama :\",self.nama)\n",
    "\t\tprint(\"Usia :\",self.usia)\n",
    "\t\tprint(\"nuptk :\",self.nuptk)\n",
    "\t\ttry:\n",
    "\t\t\tprint(\"Mapel :\",self.__mapel)\n",
    "\t\texcept:\n",
    "\t\t\tself.setMapel(self,\"Math\")\n",
    "\t\t\tprint(\"Mapel :\",self.__mapel)\n",
    "\n",
    "widya = Siswa('Mbak Widya',15,\"00123\")\n",
    "teguh = Guru('Pak Teguh',35,\"12129\")\n",
    "print(hasattr(teguh,'mapel')) # True atau False\n",
    "print(isinstance(widya,Siswa) # True atau False\n",
    "mpl = input(\"Masukkan nama mata pelajaran: \")\n",
    "teguh.setMapel(mpl)\n",
    "widya.setNilai()\n",
    "widya.getNilai()\n",
    "teguh.cetakIdentitas()\n"
   ]
  },
  {
   "cell_type": "code",
   "execution_count": 57,
   "metadata": {},
   "outputs": [
    {
     "name": "stdout",
     "output_type": "stream",
     "text": [
      "4\n",
      "6\n"
     ]
    }
   ],
   "source": [
    "class Orang:\n",
    "    a = 5\n",
    "\n",
    "class Tumbuhan:\n",
    "    a = 4\n",
    "\n",
    "class Campuran(Tumbuhan,Orang):\n",
    "    c = 6\n",
    "\n",
    "objCampuran = Campuran()\n",
    "print(objCampuran.a)\n",
    "# print(objCampuran.b)\n",
    "print(objCampuran.c)"
   ]
  },
  {
   "cell_type": "code",
   "execution_count": null,
   "metadata": {},
   "outputs": [],
   "source": [
    "class Stack:    # defining the Stack class\n",
    "    def __init__(self):    # defining the constructor function\n",
    "        print(\"Hi!\")\n",
    "\n",
    "stackObject = Stack()    # instantiating the object"
   ]
  },
  {
   "cell_type": "code",
   "execution_count": null,
   "metadata": {},
   "outputs": [],
   "source": [
    "class Stack:\n",
    "    def __init__(self):\n",
    "        self.stackList = []\n",
    "\n",
    "stackObject = Stack()\n",
    "print(len(stackObject.stackList))"
   ]
  },
  {
   "cell_type": "markdown",
   "metadata": {},
   "source": [
    "#### Encapsulation\n",
    "Privating names\n",
    "component using prefix __ is private"
   ]
  },
  {
   "cell_type": "code",
   "execution_count": null,
   "metadata": {},
   "outputs": [],
   "source": [
    "class Stack:\n",
    "    def __init__(self):\n",
    "        self.__stackList = []\n",
    "\n",
    "stackObject = Stack()\n",
    "print(len(stackObject.__stackList))"
   ]
  },
  {
   "cell_type": "markdown",
   "metadata": {},
   "source": [
    "#### Completing stack class"
   ]
  },
  {
   "cell_type": "code",
   "execution_count": null,
   "metadata": {},
   "outputs": [],
   "source": [
    "class Stack:\n",
    "    def __init__(self):\n",
    "        self.__stackList = []\n",
    "\n",
    "    def push(self, val):\n",
    "        self.__stackList.append(val)\n",
    "\n",
    "    def pop(self):\n",
    "        val = self.__stackList[-1]\n",
    "        del self.__stackList[-1]\n",
    "        return val\n",
    "\n",
    "\n",
    "stackObject = Stack()\n",
    "\n",
    "stackObject.push(3)\n",
    "stackObject.push(2)\n",
    "stackObject.push(1)\n",
    "\n",
    "print(stackObject.pop())\n",
    "print(stackObject.pop())\n",
    "print(stackObject.pop())\n",
    "\n",
    "# =======================\n",
    "\n",
    "stackObject1 = Stack()\n",
    "stackObject2 = Stack()\n",
    "\n",
    "stackObject1.push(3)\n",
    "stackObject2.push(stackObject1.pop())\n",
    "\n",
    "print(stackObject2.pop())"
   ]
  },
  {
   "cell_type": "markdown",
   "metadata": {},
   "source": [
    "#### Subclass from superclass\n"
   ]
  },
  {
   "cell_type": "code",
   "execution_count": null,
   "metadata": {},
   "outputs": [],
   "source": [
    "class Stack:\n",
    "    def __init__(self):\n",
    "        self.__stackList = []\n",
    "\n",
    "    def push(self, val):\n",
    "        self.__stackList.append(val)\n",
    "\n",
    "    def pop(self):\n",
    "        val = self.__stackList[-1]\n",
    "        del self.__stackList[-1]\n",
    "        return val\n",
    "\n",
    "class AddingStack(Stack):\n",
    "    def __init__(self):\n",
    "        Stack.__init__(self)\n",
    "        self.__sum = 0\n",
    "    \n",
    "    def getSum(self):\n",
    "        return self.__sum\n",
    "    \n",
    "    def push(self,val):\n",
    "        self.__sum += val\n",
    "        Stack.push(self,val)\n",
    "    \n",
    "    def pop(self):\n",
    "        val = Stack.pop(self)\n",
    "        self.__sum -= val\n",
    "        return val\n",
    "        \n"
   ]
  },
  {
   "cell_type": "markdown",
   "metadata": {},
   "source": [
    "### 6.2.2 Instance Variables\n",
    "\n",
    "**Variables** inside object that can be added or removed"
   ]
  },
  {
   "cell_type": "code",
   "execution_count": null,
   "metadata": {},
   "outputs": [],
   "source": [
    "class ExampleClass:\n",
    "    def __init__(self, val = 1):\n",
    "        self.first = val\n",
    "\n",
    "    def setSecond(self, val):\n",
    "        self.second = val\n",
    "\n",
    "\n",
    "exampleObject1 = ExampleClass()  # only create first instance var\n",
    "exampleObject2 = ExampleClass(2) # only create first instance var\n",
    "\n",
    "exampleObject2.setSecond(3) # create second instance var\n",
    "\n",
    "exampleObject3 = ExampleClass(4) # only create first instance var\n",
    "exampleObject3.third = 5    # create NEW third instance var\n",
    "\n",
    "\n",
    "print(exampleObject1.__dict__)\n",
    "print(exampleObject2.__dict__)\n",
    "print(exampleObject3.__dict__)"
   ]
  },
  {
   "cell_type": "code",
   "execution_count": null,
   "metadata": {},
   "outputs": [],
   "source": [
    "class ExampleClass:\n",
    "    def __init__(self, val = 1):\n",
    "        self.__first = val\n",
    "\n",
    "    def setSecond(self, val = 2):\n",
    "        self.__second = val\n",
    "\n",
    "\n",
    "exampleObject1 = ExampleClass()  # only create first instance var\n",
    "exampleObject2 = ExampleClass(2) # only create first instance var\n",
    "\n",
    "exampleObject2.setSecond(3) # create second instance var\n",
    "\n",
    "exampleObject3 = ExampleClass(4) # only create first instance var\n",
    "exampleObject3.__third = 5    # create NEW third instance var\n",
    "\n",
    "\n",
    "print(exampleObject1.__dict__)\n",
    "print(exampleObject2.__dict__)\n",
    "print(exampleObject3.__dict__)"
   ]
  },
  {
   "cell_type": "markdown",
   "metadata": {},
   "source": [
    "### 6.2.3 Class Variables\n",
    "**Property** which exists in just one copy and is stored outside any object."
   ]
  },
  {
   "cell_type": "code",
   "execution_count": null,
   "metadata": {},
   "outputs": [],
   "source": [
    "class ExampleClass:\n",
    "    counter = 0\n",
    "    def __init__(self, val = 1):\n",
    "        self.__first = val\n",
    "        ExampleClass.counter += 1\n",
    "\n",
    "exampleObject1 = ExampleClass()\n",
    "exampleObject2 = ExampleClass(2)\n",
    "exampleObject3 = ExampleClass(4)\n",
    "\n",
    "print(exampleObject1.__dict__, exampleObject1.counter)\n",
    "print(exampleObject2.__dict__, exampleObject2.counter)\n",
    "print(exampleObject3.__dict__, exampleObject3.counter)"
   ]
  },
  {
   "cell_type": "code",
   "execution_count": null,
   "metadata": {},
   "outputs": [],
   "source": [
    "class ExampleClass:\n",
    "    __counter = 0  # \"private\"-like variable\n",
    "    def __init__(self, val = 1):\n",
    "        self.__first = val\n",
    "        ExampleClass.__counter += 1\n",
    "\n",
    "exampleObject1 = ExampleClass()\n",
    "exampleObject2 = ExampleClass(2)\n",
    "exampleObject3 = ExampleClass(4)\n",
    "\n",
    "print(exampleObject1.__dict__, exampleObject1._ExampleClass__counter)\n",
    "print(exampleObject2.__dict__, exampleObject2._ExampleClass__counter)\n",
    "print(exampleObject3.__dict__, exampleObject3._ExampleClass__counter)"
   ]
  },
  {
   "cell_type": "markdown",
   "metadata": {},
   "source": [
    "#### class variables exist even when no class instance (object) had been created."
   ]
  },
  {
   "cell_type": "code",
   "execution_count": null,
   "metadata": {},
   "outputs": [],
   "source": [
    "class ExampleClass:\n",
    "    varia = 1\n",
    "    def __init__(self, val):\n",
    "        ExampleClass.varia = val\n",
    "\n",
    "print(ExampleClass.__dict__)    # class variable, from class\n",
    "exampleObject = ExampleClass(2)\n",
    "\n",
    "print(ExampleClass.__dict__)   \n",
    "print(exampleObject.__dict__)   # class variable of an object"
   ]
  },
  {
   "cell_type": "markdown",
   "metadata": {},
   "source": [
    "#### checking attribute's existence\n",
    "instance variable not always created "
   ]
  },
  {
   "cell_type": "code",
   "execution_count": null,
   "metadata": {},
   "outputs": [],
   "source": [
    "class ExampleClass:\n",
    "    def __init__(self, val):\n",
    "        if val % 2 != 0:\n",
    "            self.a = 1\n",
    "        else:\n",
    "            self.b = 1\n",
    "\n",
    "exampleObject = ExampleClass(1)\n",
    "\n",
    "print(exampleObject.a)\n",
    "try:\n",
    "    print(exampleObject.b)\n",
    "except AttributeError:\n",
    "    pass"
   ]
  },
  {
   "cell_type": "markdown",
   "metadata": {},
   "source": [
    "#### checking attribute of object"
   ]
  },
  {
   "cell_type": "code",
   "execution_count": null,
   "metadata": {},
   "outputs": [],
   "source": [
    "class ExampleClass:\n",
    "    def __init__(self, val):\n",
    "        if val % 2 != 0:\n",
    "            self.a = 1\n",
    "        else:\n",
    "            self.b = 1\n",
    "\n",
    "exampleObject = ExampleClass(1)\n",
    "print(exampleObject.a)\n",
    "\n",
    "if hasattr(exampleObject, 'b'):\n",
    "    print(exampleObject.b)"
   ]
  },
  {
   "cell_type": "markdown",
   "metadata": {},
   "source": [
    "#### checking attribute of class"
   ]
  },
  {
   "cell_type": "code",
   "execution_count": 20,
   "metadata": {},
   "outputs": [
    {
     "name": "stdout",
     "output_type": "stream",
     "text": [
      "True\n",
      "True\n",
      "False\n",
      "True\n"
     ]
    }
   ],
   "source": [
    "class ExampleClass:\n",
    "    a = 1\n",
    "    def __init__(self):\n",
    "        self.b = 2\n",
    "\n",
    "exampleObject = ExampleClass()\n",
    "\n",
    "print(hasattr(exampleObject, 'b'))\n",
    "print(hasattr(exampleObject, 'a'))\n",
    "print(hasattr(ExampleClass, 'b'))\n",
    "print(hasattr(ExampleClass, 'a'))"
   ]
  },
  {
   "cell_type": "markdown",
   "metadata": {},
   "source": [
    "### 6.2.4 Class' methods\n",
    "**method** is a function embedded inside a class.\n",
    "\n",
    "    class Classy:\n",
    "        def method(self):\n",
    "            print(\"method\")\n",
    "\n",
    "    obj = Classy()\n",
    "    obj.method()\n",
    "   \n",
    "- parameter **self** is mandatory\n",
    "- **\\_\\_init__** is constructor and **cannot** return value"
   ]
  },
  {
   "cell_type": "code",
   "execution_count": null,
   "metadata": {},
   "outputs": [],
   "source": [
    "class Classy:\n",
    "    def other(self):\n",
    "        print(\"other\")\n",
    "\n",
    "    def method(self):\n",
    "        print(\"method\")\n",
    "        self.other()    # calling another method\n",
    "\n",
    "obj = Classy()\n",
    "obj.method()"
   ]
  },
  {
   "cell_type": "code",
   "execution_count": null,
   "metadata": {},
   "outputs": [],
   "source": [
    "class Classy:\n",
    "    def visible(self):\n",
    "        print(\"visible\")\n",
    "    \n",
    "    def __hidden(self):\n",
    "        print(\"hidden\")\n",
    "\n",
    "obj = Classy()\n",
    "obj.visible()\n",
    "\n",
    "try:\n",
    "    obj.__hidden()\n",
    "except:\n",
    "    print(\"failed\")\n",
    "\n",
    "obj._Classy__hidden()"
   ]
  },
  {
   "cell_type": "markdown",
   "metadata": {},
   "source": [
    "#### name of an object"
   ]
  },
  {
   "cell_type": "code",
   "execution_count": null,
   "metadata": {},
   "outputs": [],
   "source": [
    "class Classy:\n",
    "    pass\n",
    "\n",
    "print(Classy.__name__)  # name of the class\n",
    "obj = Classy()\n",
    "print(type(obj).__name__)"
   ]
  },
  {
   "cell_type": "code",
   "execution_count": null,
   "metadata": {},
   "outputs": [],
   "source": [
    "class Classy:\n",
    "    pass\n",
    "\n",
    "print(Classy.__module__) # name of the module\n",
    "obj = Classy()\n",
    "print(obj.__module__)"
   ]
  },
  {
   "cell_type": "code",
   "execution_count": null,
   "metadata": {},
   "outputs": [],
   "source": [
    "class SuperOne:\n",
    "    pass\n",
    "\n",
    "class SuperTwo:\n",
    "    pass\n",
    "\n",
    "class Sub(SuperOne, SuperTwo):\n",
    "    pass\n",
    "\n",
    "\n",
    "def printBases(cls):\n",
    "    print('( ', end='')\n",
    "\n",
    "    for x in cls.__bases__:  # base of the class or the superclasses\n",
    "        print(x.__name__, end=' ')\n",
    "    print(')')\n",
    "\n",
    "\n",
    "printBases(SuperOne)\n",
    "printBases(SuperTwo)\n",
    "printBases(Sub)"
   ]
  },
  {
   "cell_type": "markdown",
   "metadata": {},
   "source": [
    "#### Important activities of class\n",
    "<img src=\"https://edube.org/uploads/media/default/0001/01/27ee5cade001ded5a564bb7e12f725c112a3bf0e.png\">"
   ]
  },
  {
   "cell_type": "markdown",
   "metadata": {},
   "source": [
    "### 6.2.5 Inheritance\n",
    "#### name of object"
   ]
  },
  {
   "cell_type": "code",
   "execution_count": null,
   "metadata": {},
   "outputs": [],
   "source": [
    "class Star:\n",
    "    def __init__(self, name, galaxy):\n",
    "        self.name = name\n",
    "        self.galaxy = galaxy\n",
    "\n",
    "sun = Star(\"Sun\", \"Milky Way\")\n",
    "print(sun)  # default name"
   ]
  },
  {
   "cell_type": "code",
   "execution_count": null,
   "metadata": {},
   "outputs": [],
   "source": [
    "class Star:\n",
    "    def __init__(self, name, galaxy):\n",
    "        self.name = name\n",
    "        self.galaxy = galaxy\n",
    "\n",
    "    def __str__(self):  # modifying name\n",
    "        return self.name + ' in ' + self.galaxy\n",
    "\n",
    "sun = Star(\"Sun\", \"Milky Way\")\n",
    "print(sun)"
   ]
  },
  {
   "cell_type": "code",
   "execution_count": null,
   "metadata": {},
   "outputs": [],
   "source": [
    "class Vehicle:\n",
    "    pass\n",
    "\n",
    "class LandVehicle(Vehicle):\n",
    "    pass\n",
    "\n",
    "class TrackedVehicle(LandVehicle):\n",
    "    pass\n",
    "\n",
    "\n",
    "for cls1 in [Vehicle, LandVehicle, TrackedVehicle]:\n",
    "    for cls2 in [Vehicle, LandVehicle, TrackedVehicle]:\n",
    "        print(issubclass(cls1, cls2), end=\"\\t\")\n",
    "    print()"
   ]
  },
  {
   "cell_type": "markdown",
   "metadata": {},
   "source": [
    "#### checking instance of a class\n",
    "\n",
    "    isinstance(obj,cls)\n",
    "    \n",
    "#### checking whether two variables (objectOne and objectTwo here) refer to the same object.\n",
    "\n",
    "    obj1 is obj2\n",
    "    "
   ]
  },
  {
   "cell_type": "code",
   "execution_count": null,
   "metadata": {},
   "outputs": [],
   "source": [
    "class SampleClass:\n",
    "    def __init__(self, val):\n",
    "        self.val = val\n",
    "\n",
    "ob1 = SampleClass(0)\n",
    "ob2 = SampleClass(2)\n",
    "ob3 = ob1\n",
    "ob3.val += 1\n",
    "\n",
    "print(ob1 is ob2)\n",
    "print(ob2 is ob3)\n",
    "print(ob3 is ob1)\n",
    "print(ob1.val, ob2.val, ob3.val)\n",
    "\n",
    "str1 = \"Mary had a little \"\n",
    "str2 = \"Mary had a little lamb\"\n",
    "str1 += \"lamb\"\n",
    "\n",
    "print(str1 == str2, str1 is str2)"
   ]
  },
  {
   "cell_type": "markdown",
   "metadata": {},
   "source": [
    "#### How to inherit"
   ]
  },
  {
   "cell_type": "code",
   "execution_count": null,
   "metadata": {},
   "outputs": [],
   "source": [
    "class Super:        # Super is superclass of Sub class\n",
    "    def __init__(self, name):\n",
    "        self.name = name\n",
    "\n",
    "    def __str__(self):\n",
    "        return \"My name is \" + self.name + \".\"\n",
    "\n",
    "class Sub(Super):   # Sub is subclass of Super class\n",
    "    def __init__(self, name):\n",
    "        Super.__init__(self, name) # mentioning superclass' name\n",
    "        # or\n",
    "        # super().__init__(name)   # not mentioning\n",
    "\n",
    "\n",
    "obj = Sub(\"Andy\")\n",
    "\n",
    "print(obj)"
   ]
  },
  {
   "cell_type": "code",
   "execution_count": null,
   "metadata": {},
   "outputs": [],
   "source": [
    "class Level1:\n",
    "    varia1 = 100\n",
    "    def __init__(self):\n",
    "        self.var1 = 101\n",
    "\n",
    "    def fun1(self):\n",
    "        return 102\n",
    "\n",
    "\n",
    "class Level2(Level1):\n",
    "    varia2 = 200\n",
    "    def __init__(self):\n",
    "        super().__init__()\n",
    "        self.var2 = 201\n",
    "    \n",
    "    def fun2(self):\n",
    "        return 202\n",
    "\n",
    "\n",
    "class Level3(Level2):\n",
    "    varia3 = 300\n",
    "    def __init__(self):\n",
    "        super().__init__()\n",
    "        self.var3 = 301\n",
    "\n",
    "    def fun3(self):\n",
    "        return 302\n",
    "\n",
    "\n",
    "obj = Level3()\n",
    "\n",
    "print(obj.varia1, obj.var1, obj.fun1())\n",
    "print(obj.varia2, obj.var2, obj.fun2())\n",
    "print(obj.varia3, obj.var3, obj.fun3())"
   ]
  },
  {
   "cell_type": "markdown",
   "metadata": {},
   "source": [
    "#### Multiple inheritance\n",
    "**-- Has to be very careful --**"
   ]
  },
  {
   "cell_type": "code",
   "execution_count": null,
   "metadata": {},
   "outputs": [],
   "source": [
    "class SuperA:\n",
    "    varA = 10\n",
    "    def funA(self):\n",
    "        return 11\n",
    "\n",
    "class SuperB:\n",
    "    varB = 20\n",
    "    def funB(self):\n",
    "        return 21\n",
    "\n",
    "class Sub(SuperA, SuperB): # Sub inherits from SuperA and SuperB\n",
    "    pass\n",
    "\n",
    "obj = Sub()\n",
    "\n",
    "print(obj.varA, obj.funA())\n",
    "print(obj.varB, obj.funB())"
   ]
  },
  {
   "cell_type": "code",
   "execution_count": null,
   "metadata": {},
   "outputs": [],
   "source": [
    "class Level1:\n",
    "    var = 100\n",
    "    def fun(self):\n",
    "        return 101\n",
    "\n",
    "class Level2:\n",
    "    var = 200\n",
    "    def fun(self):\n",
    "        return 201\n",
    "\n",
    "class Level3(Level2):\n",
    "    pass\n",
    "\n",
    "obj = Level3()\n",
    "\n",
    "print(obj.var, obj.fun())"
   ]
  },
  {
   "cell_type": "code",
   "execution_count": null,
   "metadata": {},
   "outputs": [],
   "source": [
    "class Left:\n",
    "    var = \"L\"\n",
    "    varLeft = \"LL\"\n",
    "    def fun(self):\n",
    "        return \"Left\"\n",
    "\n",
    "\n",
    "class Right:\n",
    "    var = \"R\"\n",
    "    varRight = \"RR\"\n",
    "    def fun(self):\n",
    "        return \"Right\"\n",
    "\n",
    "class Sub(Left, Right):\n",
    "    pass\n",
    "\n",
    "\n",
    "obj = Sub()\n",
    "\n",
    "print(obj.var, obj.varLeft, obj.varRight, obj.fun())"
   ]
  },
  {
   "cell_type": "markdown",
   "metadata": {},
   "source": [
    "### 6.2.6 Polymorphism\n",
    "the subclass is able to modify its superclass behavior"
   ]
  },
  {
   "cell_type": "code",
   "execution_count": null,
   "metadata": {},
   "outputs": [],
   "source": [
    "class One:\n",
    "    def doit(self):\n",
    "        print(\"doit from One\")\n",
    "\n",
    "    def doanything(self):\n",
    "        self.doit()\n",
    "\n",
    "class Two(One):\n",
    "    def doit(self):    # polymorphism -- modify the doit() class\n",
    "        print(\"doit from Two\")\n",
    "\n",
    "one = One()\n",
    "two = Two()\n",
    "\n",
    "one.doanything()\n",
    "two.doanything()"
   ]
  },
  {
   "cell_type": "code",
   "execution_count": null,
   "metadata": {},
   "outputs": [],
   "source": []
  }
 ],
 "metadata": {
  "kernelspec": {
   "display_name": "Python 3",
   "language": "python",
   "name": "python3"
  },
  "language_info": {
   "codemirror_mode": {
    "name": "ipython",
    "version": 3
   },
   "file_extension": ".py",
   "mimetype": "text/x-python",
   "name": "python",
   "nbconvert_exporter": "python",
   "pygments_lexer": "ipython3",
   "version": "3.7.3"
  }
 },
 "nbformat": 4,
 "nbformat_minor": 2
}
