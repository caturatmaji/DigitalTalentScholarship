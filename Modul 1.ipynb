{
 "cells": [
  {
   "cell_type": "markdown",
   "metadata": {},
   "source": [
    "# Module 1 - Introduction to Python and Computer Programming\n",
    "### In this module, you will learn about:\n",
    "- the fundamentals of computer programming;\n",
    "- setting up your programming environment;\n",
    "- compilation vs. interpretation;\n",
    "- introduction to Python."
   ]
  },
  {
   "cell_type": "markdown",
   "metadata": {},
   "source": [
    "## Keywords\n",
    "### How Computer Works?\n",
    "### Natural Languages vs Programming Languages\n",
    "## What makes a language\n",
    "- an Alphabet -- Symbol\n",
    "- a Lexis     -- set of words (dictionary)\n",
    "- a Syntax    -- set of rules to make sentenses\n",
    "- Semantics   -- set of rules determining if a certain phrase makes sense\n",
    "\n",
    "## Compilation vs Interpretation\n",
    "<img src=\"img/CompileVInterpret.jpg\">\n",
    "\n",
    "## Python\n",
    "<img src=\"https://edube.org/uploads/media/default/0001/01/d69f19d8aeb60e69a880da527a35b0b132a7e43a.png\">\n",
    "\n",
    "- created by Guido van Rossum\n",
    "- name from Monty Python's Flying Circus\n",
    "## What makes Python special?\n",
    "<img src=\"https://edube.org/uploads/media/default/0001/01/a1ee4bc97677a1acf93078f175a5fee938e016fd.png\">\n",
    "\n",
    "## More than one Python\n",
    "### main kind of Python\n",
    "- Python 2\n",
    "- Python 3\n",
    "\n",
    "### Variant of Python\n",
    "- Python aka CPython\n",
    "- Cython\n",
    "- Jython\n",
    "- PyPy\n",
    "- RPython"
   ]
  },
  {
   "cell_type": "markdown",
   "metadata": {},
   "source": [
    "## First Python Program\n"
   ]
  },
  {
   "cell_type": "code",
   "execution_count": null,
   "metadata": {},
   "outputs": [],
   "source": [
    "# My first Python Program\n",
    "print(\"Hello Python\")"
   ]
  },
  {
   "cell_type": "markdown",
   "metadata": {},
   "source": []
  }
 ],
 "metadata": {
  "kernelspec": {
   "display_name": "Python 3",
   "language": "python",
   "name": "python3"
  },
  "language_info": {
   "codemirror_mode": {
    "name": "ipython",
    "version": 3
   },
   "file_extension": ".py",
   "mimetype": "text/x-python",
   "name": "python",
   "nbconvert_exporter": "python",
   "pygments_lexer": "ipython3",
   "version": "3.7.3"
  }
 },
 "nbformat": 4,
 "nbformat_minor": 2
}
