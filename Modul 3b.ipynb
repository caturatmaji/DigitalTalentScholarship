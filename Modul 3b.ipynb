{
 "cells": [
  {
   "cell_type": "markdown",
   "metadata": {},
   "source": [
    "## 3.3 List\n",
    "- multi-value variables\n",
    "- "
   ]
  },
  {
   "cell_type": "code",
   "execution_count": null,
   "metadata": {},
   "outputs": [],
   "source": [
    "numbers = [10, 5, 7, 2, 1]\n",
    "print(\"List content:\", numbers) # printing original list content"
   ]
  },
  {
   "cell_type": "markdown",
   "metadata": {},
   "source": [
    "### 3.3.1 indexing list\n",
    "- list indexed from 0\n",
    "- list indexed using [ i ]"
   ]
  },
  {
   "cell_type": "code",
   "execution_count": null,
   "metadata": {},
   "outputs": [],
   "source": [
    "numbers = [10, 5, 7, 2, 1]\n",
    "print(\"index 0:\",numbers[0])\n",
    "numbers[0] = 111\n",
    "print(\"index 0:\",numbers[0])\n",
    "print(\"\\nPrevious list content:\", numbers) # printing previous list content\n",
    "\n",
    "numbers[1] = numbers[4] # copying value of the fifth element to the second\n",
    "print(\"New list content:\", numbers) # printing current list content"
   ]
  },
  {
   "cell_type": "code",
   "execution_count": null,
   "metadata": {},
   "outputs": [],
   "source": [
    "# print list element using for loop\n",
    "i = 0\n",
    "for elem in numbers:\n",
    "    print(\"element-\",i,\"is\",elem)\n",
    "    i = i+1  # or i += 1"
   ]
  },
  {
   "cell_type": "markdown",
   "metadata": {},
   "source": [
    "### 3.3.2 Length of list\n",
    "\n",
    "    len(lst) --> length of list lst"
   ]
  },
  {
   "cell_type": "code",
   "execution_count": null,
   "metadata": {},
   "outputs": [],
   "source": [
    "numbers = [10, 5, 7, 2, 1]\n",
    "print(\"length is\",len(numbers))"
   ]
  },
  {
   "cell_type": "markdown",
   "metadata": {},
   "source": [
    "### 3.3.3 Removing element from a list\n",
    "cannot access element which doesn't exist"
   ]
  },
  {
   "cell_type": "code",
   "execution_count": null,
   "metadata": {},
   "outputs": [],
   "source": [
    "numbers = [10, 5, 7, 2, 1]\n",
    "print(\"Original list content:\", numbers) # printing original list content\n",
    "\n",
    "print(\"\\nList's length:\", len(numbers)) # printing previous list length\n",
    "\n",
    "del numbers[1] # removing the second element from the list\n",
    "print(\"New list's length:\", len(numbers)) # printing new list length\n",
    "print(\"\\nNew list content:\", numbers) # printing current list content"
   ]
  },
  {
   "cell_type": "code",
   "execution_count": null,
   "metadata": {},
   "outputs": [],
   "source": [
    "numbers = [10, 5, 7, 2, 1]\n",
    "del numbers[4]\n",
    "print(numbers[4])"
   ]
  },
  {
   "cell_type": "markdown",
   "metadata": {},
   "source": [
    "### 3.3.4 Negative index\n",
    "can access using negative index"
   ]
  },
  {
   "cell_type": "code",
   "execution_count": null,
   "metadata": {},
   "outputs": [],
   "source": [
    "numbers = [10, 5, 7, 2, 1]\n",
    "# negative indexing\n",
    "for i in range(-5,5):\n",
    "    print(\"index\",i,\"is\",numbers[i])"
   ]
  },
  {
   "cell_type": "markdown",
   "metadata": {},
   "source": [
    "### Lab\n",
    "There once was a hat. The hat contained no rabbit, but a list of five numbers: 1, 2, 3, 4, and 5.\n",
    "\n",
    "Your task is to:\n",
    "\n",
    "- write a line of code that prompts the user to **replace the middle number** in the list with an integer number entered by the user (step 1)\n",
    "- write a line of code that **removes the last element** from the list (step 2)\n",
    "- write a line of code that **prints the length** of the existing list (step 3.)\n",
    "Ready for this challenge?"
   ]
  },
  {
   "cell_type": "code",
   "execution_count": null,
   "metadata": {},
   "outputs": [],
   "source": [
    "hatList = [1, 2, 3, 4, 5]  # This is an existing list of numbers hidden in the hat.\n",
    "\n",
    "# Step 1: write a line of code that prompts the user\n",
    "# to replace the middle number with an integer number entered by the user.\n",
    "\n",
    "# Step 2: write a line of code here that removes the last element from the list.\n",
    "\n",
    "# Step 3: write a line of code here that prints the length of the existing list.\n",
    "\n",
    "print(hatList)"
   ]
  },
  {
   "cell_type": "markdown",
   "metadata": {},
   "source": [
    "### 3.3.5 Methods of List\n",
    "#### insert new element at the end of the list\n",
    "\n",
    "    list.append(value)\n",
    "\n",
    "#### insert new element at any place in the list\n",
    "\n",
    "    list.insert(location,value)"
   ]
  },
  {
   "cell_type": "code",
   "execution_count": null,
   "metadata": {},
   "outputs": [],
   "source": [
    "numbers = [111, 7, 2, 1]\n",
    "print(len(numbers))\n",
    "print(numbers)\n",
    "\n",
    "###\n",
    "\n",
    "numbers.append(4)\n",
    "\n",
    "print(len(numbers))\n",
    "print(numbers)\n",
    "\n",
    "###\n",
    "\n",
    "numbers.insert(0, 222)\n",
    "print(len(numbers))\n",
    "print(numbers)\n",
    "\n",
    "#"
   ]
  },
  {
   "cell_type": "code",
   "execution_count": null,
   "metadata": {},
   "outputs": [],
   "source": [
    "myList = [] # creating an empty list\n",
    "\n",
    "for i in range(5):\n",
    "    myList.append(i + 1)  # using append\n",
    "\n",
    "print(myList)"
   ]
  },
  {
   "cell_type": "code",
   "execution_count": null,
   "metadata": {},
   "outputs": [],
   "source": [
    "myList = [] # creating an empty list\n",
    "\n",
    "for i in range(5):\n",
    "    myList.insert(0, i + 1)  # using insert\n",
    "\n",
    "print(myList)"
   ]
  },
  {
   "cell_type": "code",
   "execution_count": null,
   "metadata": {},
   "outputs": [],
   "source": [
    "# sum of list element\n",
    "myList = [10, 1, 8, 3, 5]\n",
    "total = 0\n",
    "\n",
    "for i in range(len(myList)):\n",
    "    total += myList[i]\n",
    "\n",
    "print(total)"
   ]
  },
  {
   "cell_type": "markdown",
   "metadata": {},
   "source": [
    "#### assigning more than one variables\n"
   ]
  },
  {
   "cell_type": "code",
   "execution_count": null,
   "metadata": {},
   "outputs": [],
   "source": [
    "a,b = 1,5\n",
    "c = a+b\n",
    "print(\"a =\",a)\n",
    "print(\"b =\",b)\n",
    "print(\"c =\",c)"
   ]
  },
  {
   "cell_type": "code",
   "execution_count": null,
   "metadata": {},
   "outputs": [],
   "source": [
    "# making swap\n",
    "a = 1\n",
    "b = 5\n",
    "print(\"a =\",a)\n",
    "print(\"b =\",b)\n",
    "a,b = b,a\n",
    "print(\"after swap\")\n",
    "print(\"a =\",a)\n",
    "print(\"b =\",b)"
   ]
  },
  {
   "cell_type": "markdown",
   "metadata": {},
   "source": [
    "### Lab: The Beatles\n",
    "The Beatles were one of the most popular music group of the 1960s, and the best-selling band in history. Some people consider them to be the most influential act of the rock era. Indeed, they were included in Time magazine's compilation of the 20th Century's 100 most influential people.\n",
    "\n",
    "The band underwent many line-up changes, culminating in 1962 with the line-up of John Lennon, Paul McCartney, George Harrison, and Richard Starkey (better known as Ringo Starr).\n",
    "\n",
    "\n",
    "Write a program that reflects these changes and lets you practice with the concept of lists. Your task is to:\n",
    "\n",
    "- step 1: **create an empty list** named beatles;\n",
    "- step 2: **use the append() method** to add the following members of the band to the list: John Lennon, Paul McCartney, and George Harrison;\n",
    "- step 3: use the **for loop and the append() method** to prompt the user to add the following members of the band to the list: Stu Sutcliffe, and Pete Best;\n",
    "- step 4: **use the del** instruction to remove Stu Sutcliffe and Pete Best from the list;\n",
    "- step 5: **use the insert() method** to add Ringo Starr to the beginning of the list.\n",
    "By the way, are you a Beatles fan?"
   ]
  },
  {
   "cell_type": "code",
   "execution_count": null,
   "metadata": {},
   "outputs": [],
   "source": [
    "# step 1\n",
    "print(\"Step 1:\", beatles)\n",
    "\n",
    "# step 2\n",
    "print(\"Step 2:\", beatles)\n",
    "\n",
    "# step 3\n",
    "print(\"Step 3:\", beatles)\n",
    "\n",
    "# step 4\n",
    "print(\"Step 4:\", beatles)\n",
    "\n",
    "# step 5\n",
    "print(\"Step 5:\", beatles)\n",
    "\n",
    "\n",
    "# testing list legth\n",
    "print(\"The Fab\", len(beatles))"
   ]
  },
  {
   "cell_type": "markdown",
   "metadata": {},
   "source": [
    "### 3.3.6 Sorting list -- the Bubble sort\n",
    "- numeric list need to be sorted\n",
    "- many methods\n",
    "\n",
    "**bubble sort:**\n",
    "<img src=\"img/bubble-sort-step1-iteration-stages.png\">"
   ]
  },
  {
   "cell_type": "code",
   "execution_count": null,
   "metadata": {},
   "outputs": [],
   "source": [
    "# using for-loop\n",
    "myList = [8, 10, 6, 2, 4] # list to sort\n",
    "\n",
    "for i in range(len(myList) - 1): # we need (5 - 1) comparisons\n",
    "    if myList[i] > myList[i + 1]: # compare adjacent elements\n",
    "        myList[i], myList[i + 1] = myList[i + 1], myList[i] # if we end up here it means that we have to swap the elements"
   ]
  },
  {
   "cell_type": "code",
   "execution_count": null,
   "metadata": {},
   "outputs": [],
   "source": [
    "# using while\n",
    "myList = [8, 10, 6, 2, 4] # list to sort\n",
    "swapped = True # it's a little fake - we need it to enter the while loop\n",
    "\n",
    "while swapped:\n",
    "    swapped = False # no swaps so far\n",
    "    for i in range(len(myList) - 1):\n",
    "        if myList[i] > myList[i + 1]:\n",
    "            swapped = True # swap occured!\n",
    "            myList[i], myList[i + 1] = myList[i + 1], myList[i]\n",
    "\n",
    "print(myList)"
   ]
  },
  {
   "cell_type": "markdown",
   "metadata": {},
   "source": [
    "### 3.3.7 Sort and Reverse method\n",
    "list method for sorting\n",
    "\n",
    "    lst.sort()\n",
    "\n",
    "list method for seversing\n",
    "\n",
    "    lst.reverse()"
   ]
  },
  {
   "cell_type": "code",
   "execution_count": null,
   "metadata": {},
   "outputs": [],
   "source": [
    "lst1 = [\"D\", \"F\", \"A\", \"Z\"]\n",
    "lst1.sort()\n",
    "\n",
    "print(lst1)\n",
    "\n",
    "lst2 = [\"D\", \"F\", \"A\", \"Z\"]\n",
    "lst2.reverse()\n",
    "\n",
    "print(lst2)"
   ]
  },
  {
   "cell_type": "markdown",
   "metadata": {},
   "source": [
    "## 3.4 Operation on List\n",
    "### Lists (and many other complex Python entities) are stored in different ways than ordinary (scalar) variables.\n",
    "\n",
    "- the name of an ordinary variable is the name of its content;\n",
    "- the name of a list is the name of a memory location where the list is stored."
   ]
  },
  {
   "cell_type": "code",
   "execution_count": null,
   "metadata": {},
   "outputs": [],
   "source": [
    "list1 = [1,5]\n",
    "list2 = list1   # same list, different name\n",
    "list1[0] = 2\n",
    "print(list2)"
   ]
  },
  {
   "cell_type": "markdown",
   "metadata": {},
   "source": [
    "### 3.4.1 Slice\n",
    "#### make a brand new copy of a list, or parts of a list."
   ]
  },
  {
   "cell_type": "code",
   "execution_count": null,
   "metadata": {},
   "outputs": [],
   "source": [
    "# Copying the whole list\n",
    "list1 = [1]\n",
    "list2 = list1[:]   # different list, different name\n",
    "list1[0] = 2\n",
    "print(list2)"
   ]
  },
  {
   "cell_type": "code",
   "execution_count": null,
   "metadata": {},
   "outputs": [],
   "source": [
    "# Copying part of the list\n",
    "\n",
    "myList = [10, 8, 6, 4, 2]\n",
    "\n",
    "newList = myList[1:3]\n",
    "print(newList)\n",
    "\n",
    "newList = myList[:3]\n",
    "print(newList)\n",
    "\n",
    "newList = myList[1:end]\n",
    "print(newList)\n",
    "\n",
    "newList = myList[1:-1]\n",
    "print(newList)\n",
    "\n",
    "newList = myList[3:1]\n",
    "print(newList)\n",
    "\n",
    "newList = myList[-3:-1]\n",
    "print(newList)\n",
    "\n",
    "newList = myList[-1:-3]\n",
    "print(newList)"
   ]
  },
  {
   "cell_type": "markdown",
   "metadata": {},
   "source": [
    "### 3.4.2 in and not in operator\n",
    "\n",
    "    elem in myList\n",
    "    elem not in myList"
   ]
  },
  {
   "cell_type": "code",
   "execution_count": null,
   "metadata": {},
   "outputs": [],
   "source": [
    "myList = [0, 3, 12, 8, 2]\n",
    "\n",
    "print(5 in myList)\n",
    "print(5 not in myList)\n",
    "print(12 in myList)"
   ]
  },
  {
   "cell_type": "code",
   "execution_count": null,
   "metadata": {},
   "outputs": [],
   "source": [
    "# largest number\n",
    "myList = [17, 3, 11, 5, 1, 9, 7, 15, 13]\n",
    "largest = myList[0]\n",
    "\n",
    "for i in range(1, len(myList)):\n",
    "    if myList[i] > largest:\n",
    "        largest = myList[i]\n",
    "'''\n",
    "for i in myList:\n",
    "    if i > largest:\n",
    "        largest = i\n",
    "'''\n",
    "print(largest)"
   ]
  },
  {
   "cell_type": "markdown",
   "metadata": {},
   "source": [
    "### Lab\n",
    "Improve the lab to remove vocal alphabet using **in operator** for list"
   ]
  },
  {
   "cell_type": "code",
   "execution_count": null,
   "metadata": {},
   "outputs": [],
   "source": [
    "# Prompt the user to enter a word\n",
    "# and assign it to the userWord variable.\n",
    "userWord=input(\"Write your word: \")\n",
    "userWord=userWord.upper()\n",
    "\n",
    "for letter in userWord:\n",
    "    if ():  # scan vocal using in / not in\n",
    "        continue\n",
    "    print(letter,end=\"\")\n",
    "\n",
    "    # Complete the body of the for loop.\n",
    "    # complete using continue"
   ]
  },
  {
   "cell_type": "markdown",
   "metadata": {},
   "source": [
    "### 3.4.3 Multidimensional list\n",
    "#### list inside list\n"
   ]
  },
  {
   "cell_type": "code",
   "execution_count": null,
   "metadata": {},
   "outputs": [],
   "source": [
    "# creating one dimensional list\n",
    "list1 = [i for i in range(10)]\n",
    "print(list1)\n",
    "\n",
    "# creating two dimensional list\n",
    "list2 = [[i for i in range(10)] for j in range(4)]\n",
    "print(list2)"
   ]
  },
  {
   "cell_type": "markdown",
   "metadata": {},
   "source": [
    "<img src=\"img/dim2array.jpg\">"
   ]
  },
  {
   "cell_type": "code",
   "execution_count": null,
   "metadata": {},
   "outputs": [],
   "source": [
    "# A four-column/four-row table - a two dimensional array (4x4)\n",
    "\n",
    "table = [[\":(\", \":)\", \":(\", \":)\"],\n",
    "         [\":)\", \":(\", \":)\", \":)\"],\n",
    "         [\":(\", \":)\", \":)\", \":(\"],\n",
    "         [\":)\", \":)\", \":)\", \":(\"]]\n",
    "\n",
    "print(table)\n",
    "print(table[0][0]) # outputs: ':('\n",
    "print(table[0][3]) # outputs: ':)'\n",
    "# try access other elements!"
   ]
  },
  {
   "cell_type": "markdown",
   "metadata": {},
   "source": [
    "<img src=\"img/dim3array.jpg\">"
   ]
  },
  {
   "cell_type": "code",
   "execution_count": null,
   "metadata": {},
   "outputs": [],
   "source": [
    "# Cube - a three-dimensional array (3x3x3)\n",
    "\n",
    "cube = [[[':(', 'x', 'x'],\n",
    "         [':)', 'x', 'x'],\n",
    "         [':(', 'x', 'x']],\n",
    "\n",
    "        [[':)', 'x', 'x'],\n",
    "         [':(', 'x', 'x'],\n",
    "         [':)', 'x', 'x']],\n",
    "\n",
    "        [[':(', 'x', 'x'],\n",
    "         [':)', 'x', 'x'],\n",
    "         [':)', 'x', 'x']]]\n",
    "\n",
    "print(cube)\n",
    "print(cube[0][0][0]) # outputs: ':('\n",
    "print(cube[2][2][0]) # outputs: ':)'\n",
    "# try access other elements!"
   ]
  }
 ],
 "metadata": {
  "kernelspec": {
   "display_name": "Python 3",
   "language": "python",
   "name": "python3"
  },
  "language_info": {
   "codemirror_mode": {
    "name": "ipython",
    "version": 3
   },
   "file_extension": ".py",
   "mimetype": "text/x-python",
   "name": "python",
   "nbconvert_exporter": "python",
   "pygments_lexer": "ipython3",
   "version": "3.7.3"
  }
 },
 "nbformat": 4,
 "nbformat_minor": 2
}
